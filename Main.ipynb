{
  "nbformat": 4,
  "nbformat_minor": 0,
  "metadata": {
    "colab": {
      "provenance": []
    },
    "kernelspec": {
      "name": "python3",
      "display_name": "Python 3"
    },
    "language_info": {
      "name": "python"
    }
  },
  "cells": [
    {
      "cell_type": "code",
      "execution_count": null,
      "metadata": {
        "colab": {
          "base_uri": "https://localhost:8080/"
        },
        "id": "0eKKOPKYVak1",
        "outputId": "63546660-6bba-4611-827e-f40eda6162dc"
      },
      "outputs": [
        {
          "output_type": "stream",
          "name": "stdout",
          "text": [
            "500\n",
            "hello\n",
            "Bur\"Han\"\n",
            "hey~2~5~6~7\n",
            "2,4,5,6\n",
            "hey there!\n",
            "Whats Up?\n",
            "\"Buri\",9,10,20,30Bye"
          ]
        }
      ],
      "source": [
        "print(50*10)\n",
        "print(\"hello\\nBur\\\"Han\\\"\")\n",
        "print(\"hey\", 2, 5, 6, 7, sep=\"~\")\n",
        "print(2,4,5,6, sep=\",\")\n",
        "\n",
        "\n",
        "print(\"hey there!\\nWhats Up?\\n\\\"Buri\\\"\",9,10,20,30, sep=\",\" , end=\"Bye\")\n"
      ]
    },
    {
      "cell_type": "code",
      "source": [
        "a=1\n",
        "b = 99\n",
        "print(a+b)\n",
        "\n"
      ],
      "metadata": {
        "colab": {
          "base_uri": "https://localhost:8080/"
        },
        "id": "x6CaB4f4YVgT",
        "outputId": "92db2fbf-3f24-4f70-cdbc-cce263647527"
      },
      "execution_count": 5,
      "outputs": [
        {
          "output_type": "stream",
          "name": "stdout",
          "text": [
            "100\n"
          ]
        }
      ]
    },
    {
      "cell_type": "markdown",
      "source": [],
      "metadata": {
        "id": "d5W-bztIa447"
      }
    },
    {
      "cell_type": "code",
      "source": [
        "# DataTypes\n",
        "a=1\n",
        "b=\"b\"\n",
        "c=True\n",
        "d=None\n",
        "e=1.1\n",
        "\n",
        "print(type(a))\n",
        "print(type(b))\n",
        "print(type(c))\n",
        "print(type(d))"
      ],
      "metadata": {
        "colab": {
          "base_uri": "https://localhost:8080/"
        },
        "id": "ZYWP6pBXa6Zi",
        "outputId": "f9bbeb74-3584-4a3e-bd2e-23ed4cbb6e61"
      },
      "execution_count": 14,
      "outputs": [
        {
          "output_type": "stream",
          "name": "stdout",
          "text": [
            "<class 'int'>\n",
            "<class 'str'>\n",
            "<class 'bool'>\n",
            "<class 'NoneType'>\n"
          ]
        }
      ]
    },
    {
      "cell_type": "code",
      "source": [
        "list1 = [[1,2],[2.3,7.9],[\"apple\",\"burhan\"]]\n",
        "tuple1= ((\"hello\",\"man\"),(\"whatsUp\"),(12,89))\n",
        "dict1= {\"name\":\"burhan\", \"age\":23,\"canVote\":True}\n",
        "\n",
        "print(list1)\n",
        "print(tuple1)\n",
        "print(dict1)\n",
        "print(type(list1))\n",
        "print(type(tuple1))\n",
        "print(type(dict1))"
      ],
      "metadata": {
        "colab": {
          "base_uri": "https://localhost:8080/"
        },
        "id": "dZC6uYZ2df7E",
        "outputId": "cea4f2cb-da35-4b08-887c-c84655bc0280"
      },
      "execution_count": 16,
      "outputs": [
        {
          "output_type": "stream",
          "name": "stdout",
          "text": [
            "[[1, 2], [2.3, 7.9], ['apple', 'burhan']]\n",
            "(('hello', 'man'), 'whatsUp', (12, 89))\n",
            "{'name': 'burhan', 'age': 23, 'canVote': True}\n",
            "<class 'list'>\n",
            "<class 'tuple'>\n",
            "<class 'dict'>\n"
          ]
        }
      ]
    },
    {
      "cell_type": "code",
      "source": [
        "print(15+6)\n",
        "print(15-6)\n",
        "print(15*6)\n",
        "print(15/6)\n",
        "print(15//6)\n",
        "print(15%6)\n",
        "print(3**3)\n",
        "# % = Modulus, Gives only remainder\n",
        "# // = Floor Division, without decimal\n",
        "# ** = Exponential, Raised Power"
      ],
      "metadata": {
        "colab": {
          "base_uri": "https://localhost:8080/"
        },
        "id": "JIOMW5Sggm7T",
        "outputId": "9e6d7294-48dc-49f4-acd4-f363854b7765"
      },
      "execution_count": 18,
      "outputs": [
        {
          "output_type": "stream",
          "name": "stdout",
          "text": [
            "21\n",
            "9\n",
            "90\n",
            "2.5\n",
            "2\n",
            "3\n",
            "27\n"
          ]
        }
      ]
    },
    {
      "cell_type": "code",
      "source": [
        "# Exercise Calculator\n",
        "\n",
        "a=int(input(\"Enter 1st number:\" ))\n",
        "b=int(input(\"Enter 2nd number:\" ))\n",
        "\n",
        "# method =(input(\"Enter method:\" ))\n",
        "\n",
        "\n",
        "\n",
        "\n",
        "add = (a+b)\n",
        "sub = (a-b)\n",
        "mul = (a*b)\n",
        "div = (a/b)\n",
        "\n",
        "\n",
        "print(div)"
      ],
      "metadata": {
        "colab": {
          "base_uri": "https://localhost:8080/"
        },
        "id": "qZz7go9giX5g",
        "outputId": "94371944-c158-448d-9e58-5d23f158b156"
      },
      "execution_count": 45,
      "outputs": [
        {
          "output_type": "stream",
          "name": "stdout",
          "text": [
            "Enter 1st number:9\n",
            "Enter 2nd number:9\n",
            "1.0\n"
          ]
        }
      ]
    },
    {
      "cell_type": "code",
      "source": [
        "# Explicit TypeCasting\n",
        "a=\"1\"\n",
        "b=\"2\"\n",
        "print(int(a)+int(b))\n",
        "\n",
        "# Implicit TypeCasting\n",
        "c=2.2\n",
        "d=2\n",
        "print(c+d)"
      ],
      "metadata": {
        "colab": {
          "base_uri": "https://localhost:8080/"
        },
        "id": "W1G5YtAWpur0",
        "outputId": "d5dcec84-5972-4dcf-f89e-45d52990a4b5"
      },
      "execution_count": 26,
      "outputs": [
        {
          "output_type": "stream",
          "name": "stdout",
          "text": [
            "3\n",
            "4.2\n"
          ]
        }
      ]
    },
    {
      "cell_type": "code",
      "source": [
        "a = \"buri\"\n",
        "\n",
        "# Multi line Stiring\n",
        "b =\"\"\"Hello\n",
        "\"uncle\"\n",
        "Namaste\"\"\"\n",
        "print(b)\n",
        "\n",
        "# indexing\n",
        "print(a[0])\n",
        "for i in b:\n",
        "  print(i)\n"
      ],
      "metadata": {
        "colab": {
          "base_uri": "https://localhost:8080/"
        },
        "id": "TBLHeNXY3kBW",
        "outputId": "29d0ba9a-2531-4aea-c95d-dde9a9d5c77f"
      },
      "execution_count": 49,
      "outputs": [
        {
          "output_type": "stream",
          "name": "stdout",
          "text": [
            "Hello\n",
            "\"uncle\" \n",
            "Namaste\n",
            "b\n",
            "H\n",
            "e\n",
            "l\n",
            "l\n",
            "o\n",
            "\n",
            "\n",
            "\"\n",
            "u\n",
            "n\n",
            "c\n",
            "l\n",
            "e\n",
            "\"\n",
            " \n",
            "\n",
            "\n",
            "N\n",
            "a\n",
            "m\n",
            "a\n",
            "s\n",
            "t\n",
            "e\n"
          ]
        }
      ]
    },
    {
      "cell_type": "code",
      "source": [
        "nm = \"Harry\"\n",
        "print(nm[-4:-2])\n",
        "\n",
        "# same as above\n",
        "print(nm[-4:len(nm)-2])"
      ],
      "metadata": {
        "colab": {
          "base_uri": "https://localhost:8080/"
        },
        "id": "7isnejzYlIlN",
        "outputId": "33d704a1-1654-4137-f0d1-28e2579944ee"
      },
      "execution_count": 3,
      "outputs": [
        {
          "output_type": "stream",
          "name": "stdout",
          "text": [
            "ar\n",
            "ar\n"
          ]
        }
      ]
    },
    {
      "cell_type": "code",
      "source": [
        "# Strings are immutable(do not change, new strings is created)\n",
        "\n",
        "a = \"Buri\"\n",
        "b = \"buri blog green buri !!\"\n",
        "\n",
        "print(len(a))\n",
        "print(a.upper())\n",
        "print(a.lower())\n",
        "\n",
        "print(b.rstrip(\"!\"))\n",
        "print(a.replace(\"Buri\",\"Burhan\"))\n",
        "print(b.split(\" \"))\n",
        "print(b.capitalize())\n",
        "\n",
        "print(len(b))\n",
        "print((b.center(50)))\n",
        "print(b.count(\"buri\"))\n",
        "print(b.endswith(\"!!\"))\n",
        "print(b.endswith(\"og\", 1, 9))\n",
        "print(b.find(\"green\"))\n",
        "print(b.find(\"yellow\"))\n",
        "\n",
        "print(b.isalnum())\n",
        "print(a.isalpha())\n",
        "print(b.islower())\n",
        "print(b.isprintable())\n",
        "print(b.isspace())"
      ],
      "metadata": {
        "colab": {
          "base_uri": "https://localhost:8080/"
        },
        "id": "xMFGIOrZwd8b",
        "outputId": "9d223089-b495-49bd-9be5-0b23f2e440c0"
      },
      "execution_count": 30,
      "outputs": [
        {
          "output_type": "stream",
          "name": "stdout",
          "text": [
            "4\n",
            "BURI\n",
            "buri\n",
            "buri      blog green buri \n",
            "Burhan\n",
            "['buri', '', '', '', '', '', 'blog', 'green', 'buri', '!!']\n",
            "Buri      blog green buri !!\n",
            "28\n",
            "           buri      blog green buri !!           \n",
            "2\n",
            "True\n",
            "False\n",
            "15\n",
            "-1\n",
            "False\n",
            "True\n",
            "True\n",
            "True\n",
            "False\n"
          ]
        }
      ]
    },
    {
      "cell_type": "code",
      "source": [
        ""
      ],
      "metadata": {
        "id": "j3wm5o8bTLPo"
      },
      "execution_count": null,
      "outputs": []
    }
  ]
}