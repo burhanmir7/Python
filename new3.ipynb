{
  "nbformat": 4,
  "nbformat_minor": 0,
  "metadata": {
    "colab": {
      "provenance": []
    },
    "kernelspec": {
      "name": "python3",
      "display_name": "Python 3"
    },
    "language_info": {
      "name": "python"
    }
  },
  "cells": [
    {
      "cell_type": "code",
      "execution_count": 3,
      "metadata": {
        "colab": {
          "base_uri": "https://localhost:8080/"
        },
        "id": "NLL04UF5YQRq",
        "outputId": "7672178b-b949-48f7-bbf2-161b86461228"
      },
      "outputs": [
        {
          "output_type": "stream",
          "name": "stdout",
          "text": [
            "[-10, -9, -8, -7, -6, -5, -4, -3, -2, -1, 0, 1, 2, 3, 4, 5, 6, 7, 8, 9]\n",
            "[1, 2, 3, 4, 5, 6, 7, 8, 9]\n"
          ]
        }
      ],
      "source": [
        "def getPos(num):\n",
        "  if num > 0:\n",
        "     return num\n",
        "num_list = range(-10,10)\n",
        "\n",
        "pos_nums = list(filter(getPos,num_list))\n",
        "print(list(num_list))\n",
        "print(pos_nums)\n"
      ]
    },
    {
      "cell_type": "code",
      "source": [
        "def square2(num):\n",
        "  return num ** 2\n",
        "num_list = range(1,11)\n",
        "\n",
        "squred_nums = list(map(square2,num_list))\n",
        "print(list(num_list))\n",
        "print(squred_nums)"
      ],
      "metadata": {
        "colab": {
          "base_uri": "https://localhost:8080/"
        },
        "id": "4OKzdg5dZ-AV",
        "outputId": "948e0ee2-8460-46fb-a444-36db7725516f"
      },
      "execution_count": 5,
      "outputs": [
        {
          "output_type": "stream",
          "name": "stdout",
          "text": [
            "[1, 2, 3, 4, 5, 6, 7, 8, 9, 10]\n",
            "[1, 4, 9, 16, 25, 36, 49, 64, 81, 100]\n"
          ]
        }
      ]
    },
    {
      "cell_type": "code",
      "source": [
        "def add(x,y):\n",
        "  sum = x + y\n",
        "  return True if sum+1 =\n"
      ],
      "metadata": {
        "id": "p8gGrceCmHD9"
      },
      "execution_count": null,
      "outputs": []
    },
    {
      "cell_type": "code",
      "source": [
        "a = lambda x : x*3\n",
        "print(a(3))"
      ],
      "metadata": {
        "colab": {
          "base_uri": "https://localhost:8080/"
        },
        "id": "ie8GHtzwAjw5",
        "outputId": "0d1eb8c5-417d-403d-dde9-f3786241bbf9"
      },
      "execution_count": 8,
      "outputs": [
        {
          "output_type": "stream",
          "name": "stdout",
          "text": [
            "9\n"
          ]
        }
      ]
    },
    {
      "cell_type": "code",
      "source": [
        "num_list = range(1,11)\n",
        "even =list(filter(lambda x : x%2 == 0 ,num_list))\n",
        "print(even)"
      ],
      "metadata": {
        "colab": {
          "base_uri": "https://localhost:8080/"
        },
        "id": "jOVmIzFyBS0I",
        "outputId": "40225e74-bf0b-438c-aaa6-3c24011af303"
      },
      "execution_count": 11,
      "outputs": [
        {
          "output_type": "stream",
          "name": "stdout",
          "text": [
            "[2, 4, 6, 8, 10]\n"
          ]
        }
      ]
    },
    {
      "cell_type": "code",
      "source": [
        "num_list = range(1,11)\n",
        "sq =list(map(lambda x : x**2 ,num_list))\n",
        "print(sq)\n"
      ],
      "metadata": {
        "colab": {
          "base_uri": "https://localhost:8080/"
        },
        "id": "OJFsMnopCXXB",
        "outputId": "518bbaf9-19dc-4b73-e6ae-cd5418de34b6"
      },
      "execution_count": 12,
      "outputs": [
        {
          "output_type": "stream",
          "name": "stdout",
          "text": [
            "[1, 4, 9, 16, 25, 36, 49, 64, 81, 100]\n"
          ]
        }
      ]
    },
    {
      "cell_type": "code",
      "source": [
        "from functools import reduce\n",
        "\n",
        "num_list = range(1,11)\n",
        "prd =(reduce(lambda x,y : x*y ,num_list))\n",
        "print(prd)"
      ],
      "metadata": {
        "colab": {
          "base_uri": "https://localhost:8080/"
        },
        "id": "1mxJfjp9CXYp",
        "outputId": "0e897af0-c2e4-4979-ece8-c8ee68dd0096"
      },
      "execution_count": 15,
      "outputs": [
        {
          "output_type": "stream",
          "name": "stdout",
          "text": [
            "3628800\n"
          ]
        }
      ]
    },
    {
      "cell_type": "code",
      "source": [
        "from datetime import datetime as dt\n",
        "dt.now()"
      ],
      "metadata": {
        "colab": {
          "base_uri": "https://localhost:8080/"
        },
        "id": "I-8uNqbcD_nb",
        "outputId": "42dbaab0-6426-4988-d695-d19f3cd83883"
      },
      "execution_count": 20,
      "outputs": [
        {
          "output_type": "execute_result",
          "data": {
            "text/plain": [
              "datetime.datetime(2024, 1, 12, 14, 27, 39, 305601)"
            ]
          },
          "metadata": {},
          "execution_count": 20
        }
      ]
    },
    {
      "cell_type": "code",
      "source": [
        "f = open(\"buri.txt\",'w')\n",
        "f.write(\"My Name is Burhan\")\n",
        "f.write(\"\\nMy Name is Rashid\")\n",
        "f.close()\n"
      ],
      "metadata": {
        "id": "io96XJbiK7cY"
      },
      "execution_count": null,
      "outputs": []
    },
    {
      "cell_type": "code",
      "source": [
        "f = open(\"buri.txt\",'r')\n",
        "print(f.read())\n",
        "f.close()"
      ],
      "metadata": {
        "id": "NSpNfBdLK8tD"
      },
      "execution_count": null,
      "outputs": []
    }
  ]
}