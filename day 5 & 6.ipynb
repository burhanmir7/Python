{
  "nbformat": 4,
  "nbformat_minor": 0,
  "metadata": {
    "colab": {
      "provenance": []
    },
    "kernelspec": {
      "name": "python3",
      "display_name": "Python 3"
    },
    "language_info": {
      "name": "python"
    }
  },
  "cells": [
    {
      "cell_type": "code",
      "execution_count": 2,
      "metadata": {
        "colab": {
          "base_uri": "https://localhost:8080/"
        },
        "id": "VzAgAocW3jiZ",
        "outputId": "ac9bb573-014f-4317-fea0-a257e944f321"
      },
      "outputs": [
        {
          "output_type": "stream",
          "name": "stdout",
          "text": [
            "enter: buri\n",
            "abcburi567\n"
          ]
        }
      ],
      "source": [
        "a = input(\"enter: \")\n",
        "\n",
        "print(f\"abc{a}567\")"
      ]
    },
    {
      "cell_type": "code",
      "source": [
        "# short if else\n",
        "a=9\n",
        "b=8\n",
        "print(a) if a > b else print(f\"{a}={b}\") if a == b else print(b)"
      ],
      "metadata": {
        "colab": {
          "base_uri": "https://localhost:8080/"
        },
        "id": "Dy2d1IIbNbZO",
        "outputId": "3dc1ede1-2acd-43ba-a994-afcd14350805"
      },
      "execution_count": 5,
      "outputs": [
        {
          "output_type": "stream",
          "name": "stdout",
          "text": [
            "9\n"
          ]
        }
      ]
    },
    {
      "cell_type": "code",
      "source": [
        "# ////We can use enumerate to get index aswell\n",
        "# along with the item\n",
        "\n",
        "\n",
        "# marks = [12,23,24,99,56,1,9,3,5]\n",
        "# index = 0\n",
        "# for mark in marks:\n",
        "#   print(mark)\n",
        "#   index +=1\n",
        "#   if (index == 3):\n",
        "#     print(\"Buri is awesome!\")\n",
        "\n",
        "marks = [12,23,24,99,56,1,9,3,5]\n",
        "\n",
        "for index, mark in enumerate(marks,start=1):\n",
        "  print(mark)\n",
        "  if (index == 3):\n",
        "    print(\"Buri is awesome!\")\n",
        "\n",
        "\n",
        "\n",
        ""
      ],
      "metadata": {
        "colab": {
          "base_uri": "https://localhost:8080/"
        },
        "id": "Nr2TFmcROoxW",
        "outputId": "def74db7-260a-49a0-ac69-95fa7d74fbef"
      },
      "execution_count": 30,
      "outputs": [
        {
          "output_type": "stream",
          "name": "stdout",
          "text": [
            "12\n",
            "23\n",
            "24\n",
            "Buri is awesome!\n",
            "99\n",
            "56\n",
            "1\n",
            "9\n",
            "3\n",
            "5\n"
          ]
        }
      ]
    },
    {
      "cell_type": "code",
      "source": [
        "x = 10 #global variable\n",
        "\n",
        "def func():\n",
        "  global x #this enables us to take global into func\n",
        "  x= 5\n",
        "  y= 5 #local variable\n",
        "  print(y)\n",
        "\n",
        "func()\n",
        "print(x)\n",
        "# print(y) this will show error as it local\n",
        "\n",
        "# local cant be accessed outside this function"
      ],
      "metadata": {
        "colab": {
          "base_uri": "https://localhost:8080/"
        },
        "id": "lfGPuDxnkB3S",
        "outputId": "15a0b55b-e40d-46f5-9074-90ce021b3744"
      },
      "execution_count": 34,
      "outputs": [
        {
          "output_type": "stream",
          "name": "stdout",
          "text": [
            "5\n",
            "5\n"
          ]
        }
      ]
    },
    {
      "cell_type": "code",
      "source": [
        "\n"
      ],
      "metadata": {
        "id": "Mbalp8zdmaE9"
      },
      "execution_count": 35,
      "outputs": []
    }
  ]
}