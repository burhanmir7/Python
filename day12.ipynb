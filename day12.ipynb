{
  "nbformat": 4,
  "nbformat_minor": 0,
  "metadata": {
    "colab": {
      "provenance": []
    },
    "kernelspec": {
      "name": "python3",
      "display_name": "Python 3"
    },
    "language_info": {
      "name": "python"
    }
  },
  "cells": [
    {
      "cell_type": "code",
      "execution_count": null,
      "metadata": {
        "id": "o495Cak09iXL"
      },
      "outputs": [],
      "source": [
        "# // Time Module"
      ]
    },
    {
      "cell_type": "code",
      "source": [
        "import time\n",
        "\n",
        "def usingWhile():\n",
        "  i = 0\n",
        "  while i < 100:\n",
        "    i = i + 1\n",
        "    print(i)\n",
        "\n",
        "def usingFor():\n",
        "  for i in range(100):\n",
        "    print(i)\n",
        "\n",
        "\n",
        "init = time.time()\n",
        "usingWhile()\n",
        "print(time.time() - init)\n",
        "init = time.time()\n",
        "usingFor()\n",
        "print(time.time() - init)"
      ],
      "metadata": {
        "id": "najmGbF_9qCP"
      },
      "execution_count": null,
      "outputs": []
    },
    {
      "cell_type": "code",
      "source": [
        "a = input(\"enter sec: \")\n",
        "print(\"Srart\")\n",
        "time.sleep(int(a))\n",
        "print(f\"{a} sec timer completed\")\n"
      ],
      "metadata": {
        "colab": {
          "base_uri": "https://localhost:8080/"
        },
        "id": "oOuOgvYRAUrc",
        "outputId": "93264bc6-aa1d-4bd9-ce8d-af6f253ddacc"
      },
      "execution_count": 8,
      "outputs": [
        {
          "output_type": "stream",
          "name": "stdout",
          "text": [
            "enter sec: 15\n",
            "Srart\n",
            "15 sec timer complete\n"
          ]
        }
      ]
    },
    {
      "cell_type": "code",
      "source": [
        "import time\n",
        "t = time.localtime()\n",
        "formatted_time = time.strftime(\"%d-%m-%y %H:%M:%S\", t)\n",
        "print(formatted_time)"
      ],
      "metadata": {
        "colab": {
          "base_uri": "https://localhost:8080/"
        },
        "id": "xkH2KpcABnVQ",
        "outputId": "7c0b6ac6-549c-4bf6-a8e3-c938970d0924"
      },
      "execution_count": 6,
      "outputs": [
        {
          "output_type": "stream",
          "name": "stdout",
          "text": [
            "02-01-24 06:35:57\n"
          ]
        }
      ]
    },
    {
      "cell_type": "code",
      "source": [
        "# Walrus operator\n",
        "numbers = [1,2,3,4,5]\n",
        "\n",
        "while (n := len(numbers)) > 0:\n",
        "  print(numbers.pop())"
      ],
      "metadata": {
        "colab": {
          "base_uri": "https://localhost:8080/"
        },
        "id": "LvpnaFFAImxy",
        "outputId": "e11b8558-681a-4bf0-9adb-5cf131642dcd"
      },
      "execution_count": 16,
      "outputs": [
        {
          "output_type": "stream",
          "name": "stdout",
          "text": [
            "5\n",
            "4\n",
            "3\n",
            "2\n",
            "1\n"
          ]
        }
      ]
    },
    {
      "cell_type": "code",
      "source": [
        "foods =list()\n",
        "while True:\n",
        "  food = input(\"enter Food: \")\n",
        "  if food == \"quit\":\n",
        "    break\n",
        "  foods.append(food)\n",
        "print(foods)"
      ],
      "metadata": {
        "id": "Q9tmq2MgNAuG"
      },
      "execution_count": null,
      "outputs": []
    },
    {
      "cell_type": "code",
      "source": [
        "# the same above code can written as this by using\n",
        "# walrus operator\n",
        "\n",
        "foods = list()\n",
        "while (food := input(\"Enter Food: \")) != \"quit\":\n",
        "  foods.append(food)\n",
        "print(foods)"
      ],
      "metadata": {
        "id": "JFMM64s6OMyz"
      },
      "execution_count": null,
      "outputs": []
    },
    {
      "cell_type": "code",
      "source": [
        "import shutil\n",
        "# Copying a file\n",
        "shutil.copy(\"src.txt\", \"dst.txt\")\n",
        "# Copying a directory\n",
        "shutil.copytree(\"src_dir\", \"dst_dir\")\n",
        "# Moving a file\n",
        "shutil.move(\"src.txt\", \"dst.txt\")\n",
        "# Deleting a directory\n",
        "shutil.rmtree(\"dir\")"
      ],
      "metadata": {
        "id": "B2ckcxtGPFSs"
      },
      "execution_count": null,
      "outputs": []
    },
    {
      "cell_type": "code",
      "source": [
        "import requests\n",
        "response = requests.get(\"https://www.codefyu.com/\")\n",
        "print(response.text)"
      ],
      "metadata": {
        "id": "axOBgGuqUoqO"
      },
      "execution_count": null,
      "outputs": []
    },
    {
      "cell_type": "code",
      "source": [
        "import requests\n",
        "# response = requests.get(\"https://www.codefyu.com/\")\n",
        "# # print(response.text)\n",
        "\n",
        "url = \"https://jsonplaceholder.typicode.com/posts\"\n",
        "\n",
        "data = {\n",
        "    \"title\": 'burhan',\n",
        "    \"body\": 'bhai',\n",
        "    \"userId\": 12,\n",
        "  }\n",
        "headers =  {\n",
        "    'Content-type': 'application/json; charset=UTF-8',\n",
        "  }\n",
        "response = requests.post(url, headers=headers, json=data)\n",
        "\n",
        "print(response.text)"
      ],
      "metadata": {
        "colab": {
          "base_uri": "https://localhost:8080/"
        },
        "id": "kSe-wKJ3Vbph",
        "outputId": "936b014b-8232-45e8-e485-1fec77a1809a"
      },
      "execution_count": 3,
      "outputs": [
        {
          "output_type": "stream",
          "name": "stdout",
          "text": [
            "{\n",
            "  \"title\": \"burhan\",\n",
            "  \"body\": \"bhai\",\n",
            "  \"userId\": 12,\n",
            "  \"id\": 101\n",
            "}\n"
          ]
        }
      ]
    },
    {
      "cell_type": "code",
      "source": [
        "import requests\n",
        "url = \"https://www.codefyu.com/\"\n",
        "r = requests.get(url)\n",
        "print(r.text)\n",
        "\n",
        "\n"
      ],
      "metadata": {
        "id": "-fsOMpwIXt58"
      },
      "execution_count": null,
      "outputs": []
    },
    {
      "cell_type": "code",
      "source": [
        "# generators are used to generate sequences\n",
        "# used for lazy loading\n",
        "def generator():\n",
        "  for i in range(11):\n",
        "    yield i # yeild is a generator\n",
        "gen = generator()\n",
        "\n",
        "print(list(gen))\n",
        "for o in gen:\n",
        "  print(o)"
      ],
      "metadata": {
        "colab": {
          "base_uri": "https://localhost:8080/"
        },
        "id": "wIrmzb2wahYt",
        "outputId": "8ff76df3-3cba-42be-809d-9f72e4ac4aef"
      },
      "execution_count": 36,
      "outputs": [
        {
          "output_type": "stream",
          "name": "stdout",
          "text": [
            "[0, 1, 2, 3, 4, 5, 6, 7, 8, 9, 10]\n"
          ]
        }
      ]
    },
    {
      "cell_type": "code",
      "source": [
        "# /// Function Caching\n",
        "\n",
        "from functools import lru_cache\n",
        "import time\n",
        "\n",
        "\n",
        "# only works in 1 program run\n",
        "@lru_cache(maxsize=None)\n",
        "def fx(n):\n",
        "  time.sleep(5)\n",
        "  return n*5\n",
        "\n",
        "print(fx(20))\n",
        "print(\"done for 20\")\n",
        "print(fx(2))\n",
        "print(\"done for 2\")\n",
        "print(fx(6))\n",
        "print(\"done for 6\")\n",
        "\n",
        "print(fx(20))\n",
        "print(\"done for 20\")\n",
        "print(fx(2))\n",
        "print(\"done for 2\")\n",
        "print(fx(6))\n",
        "print(\"done for 6\")"
      ],
      "metadata": {
        "colab": {
          "base_uri": "https://localhost:8080/"
        },
        "id": "9A-q1wmKc04F",
        "outputId": "786696c0-6cdf-4b6d-bc34-513060900f92"
      },
      "execution_count": 40,
      "outputs": [
        {
          "output_type": "stream",
          "name": "stdout",
          "text": [
            "100\n",
            "done for 20\n",
            "10\n",
            "done for 2\n",
            "30\n",
            "done for 6\n",
            "100\n",
            "done for 20\n",
            "10\n",
            "done for 2\n",
            "30\n",
            "done for 6\n"
          ]
        }
      ]
    }
  ]
}