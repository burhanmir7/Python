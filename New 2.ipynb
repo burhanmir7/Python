{
  "nbformat": 4,
  "nbformat_minor": 0,
  "metadata": {
    "colab": {
      "provenance": [],
      "toc_visible": true
    },
    "kernelspec": {
      "name": "python3",
      "display_name": "Python 3"
    },
    "language_info": {
      "name": "python"
    }
  },
  "cells": [
    {
      "cell_type": "markdown",
      "source": [
        "If Else"
      ],
      "metadata": {
        "id": "5mnkOUOfeJPV"
      }
    },
    {
      "cell_type": "code",
      "execution_count": 8,
      "metadata": {
        "colab": {
          "base_uri": "https://localhost:8080/"
        },
        "id": "CHdMX-eQbPVP",
        "outputId": "b0ab8398-a37d-42a9-8feb-9c60176b64ec"
      },
      "outputs": [
        {
          "output_type": "stream",
          "name": "stdout",
          "text": [
            "Enter your age: 18\n",
            "your age is 18\n",
            "just 18, vote carefully!\n"
          ]
        }
      ],
      "source": [
        "a = int(input(\"Enter your age: \"))\n",
        "print (\"your age is\" , a)\n",
        "\n",
        "if a>18 :\n",
        "  print(\"you can vote\")\n",
        "elif a==18:\n",
        "  print(\"just 18, vote carefully!\")\n",
        "else:\n",
        "  print(\"too young\")"
      ]
    },
    {
      "cell_type": "markdown",
      "source": [
        "Nested If Statements"
      ],
      "metadata": {
        "id": "ANalsXXti9k3"
      }
    },
    {
      "cell_type": "code",
      "source": [
        "a = int(input(\"Enter your age: \"))\n",
        "print (\"your age is\" , a)\n",
        "\n",
        "if a>18 :\n",
        "  if a>18 and a<=21:\n",
        "\n",
        "    print(\"you can vote but cant marry\")\n",
        "  elif a >21 and a<=30 :\n",
        "    print(\"you can vote and marry\")\n",
        "  else:\n",
        "    print(\"you can do what ever\")\n",
        "\n",
        "elif a==18:\n",
        "  print(\"just 18, vote carefully!\")\n",
        "else:\n",
        "  print(\"too young\")"
      ],
      "metadata": {
        "colab": {
          "base_uri": "https://localhost:8080/"
        },
        "id": "l1XqBBnWePuK",
        "outputId": "a0256896-7319-4291-d637-c9de6bf59dfc"
      },
      "execution_count": 15,
      "outputs": [
        {
          "output_type": "stream",
          "name": "stdout",
          "text": [
            "Enter your age: 31\n",
            "your age is 31\n",
            "you can do what ever\n"
          ]
        }
      ]
    },
    {
      "cell_type": "markdown",
      "source": [
        "Match Case Statements"
      ],
      "metadata": {
        "id": "9BB-qqQ-stDk"
      }
    },
    {
      "cell_type": "code",
      "source": [
        "x = input(\"Enter the month: \")\n",
        "\n",
        "match x:\n",
        "\n",
        "  case \"march\":\n",
        "    print(\"its march\")\n",
        "\n",
        "  case \"may\":\n",
        "    print(\"its may\")\n",
        "\n",
        "  case _ if x!=\"april\":\n",
        "    print(\"its not april\")\n",
        "\n",
        "  case _ if x!=\"june\":\n",
        "    print(\"its not june\")\n",
        "\n",
        "  case _:\n",
        "    print(x)\n"
      ],
      "metadata": {
        "colab": {
          "base_uri": "https://localhost:8080/"
        },
        "id": "-1F7kmyTsyWm",
        "outputId": "2c56abc4-a7e3-4b60-94ef-f80f186ea9d7"
      },
      "execution_count": 20,
      "outputs": [
        {
          "output_type": "stream",
          "name": "stdout",
          "text": [
            "Enter the month: april\n",
            "its not june\n"
          ]
        }
      ]
    },
    {
      "cell_type": "markdown",
      "source": [
        "Loops\n"
      ],
      "metadata": {
        "id": "FpToSP6IlHVO"
      }
    },
    {
      "cell_type": "code",
      "source": [
        "a = \"Buri\"\n",
        "for i in a:\n",
        "  print(i)\n",
        "\n",
        "colours = [\"red\",\"yellow\",\"green\",\"orange\"]\n",
        "for color in colours:\n",
        "  print(color)\n",
        "  for i in color:\n",
        "    print(i)\n",
        "    if i == \"o\":\n",
        "      print(\"00000\")\n",
        "\n",
        "for i in range(1,6):\n",
        "  print((i*2)-1)\n",
        "\n",
        "for i in range(0,20,2):\n",
        "  print(i)"
      ],
      "metadata": {
        "colab": {
          "base_uri": "https://localhost:8080/"
        },
        "id": "_5wNPL2GlJ2q",
        "outputId": "153e3f54-c843-4d4a-c964-e955f84822ac"
      },
      "execution_count": 25,
      "outputs": [
        {
          "output_type": "stream",
          "name": "stdout",
          "text": [
            "0\n",
            "2\n",
            "4\n",
            "6\n",
            "8\n",
            "10\n",
            "12\n",
            "14\n",
            "16\n",
            "18\n"
          ]
        }
      ]
    },
    {
      "cell_type": "code",
      "source": [
        "a = 5\n",
        "while a > 0:\n",
        "  print(a)\n",
        "  a = a - 1"
      ],
      "metadata": {
        "colab": {
          "base_uri": "https://localhost:8080/"
        },
        "id": "0JvbA9EPvv5Q",
        "outputId": "0d78ac07-2d0c-49b3-bdbd-eb93c90ee033"
      },
      "execution_count": 30,
      "outputs": [
        {
          "output_type": "stream",
          "name": "stdout",
          "text": [
            "5\n",
            "4\n",
            "3\n",
            "2\n",
            "1\n"
          ]
        }
      ]
    },
    {
      "cell_type": "code",
      "source": [
        "# Do While in Python\n",
        "while True:\n",
        "  n = int(input(\"enter number: \"))\n",
        "  print(n)\n",
        "  if not n > 0:\n",
        "    break\n",
        "print(\"loop finished\")"
      ],
      "metadata": {
        "colab": {
          "base_uri": "https://localhost:8080/"
        },
        "id": "-GtDu0xDxqDB",
        "outputId": "b852b726-ca05-4595-96c4-25c388619068"
      },
      "execution_count": 34,
      "outputs": [
        {
          "output_type": "stream",
          "name": "stdout",
          "text": [
            "enter number: 9\n",
            "9\n",
            "enter number: 09\n",
            "9\n",
            "enter number: 78\n",
            "78\n",
            "enter number: -5\n",
            "-5\n",
            "loop finished\n"
          ]
        }
      ]
    },
    {
      "cell_type": "code",
      "source": [
        "for i in range(12):\n",
        "  if(i == 9):\n",
        "    print(\"skipped the iteration\")\n",
        "    continue\n",
        "\n",
        "  print((i+1)*5)"
      ],
      "metadata": {
        "colab": {
          "base_uri": "https://localhost:8080/"
        },
        "id": "udum8c1ct_FS",
        "outputId": "c416c062-449c-4c07-b4db-f7c410679941"
      },
      "execution_count": 43,
      "outputs": [
        {
          "output_type": "stream",
          "name": "stdout",
          "text": [
            "5\n",
            "10\n",
            "15\n",
            "20\n",
            "25\n",
            "30\n",
            "35\n",
            "40\n",
            "45\n",
            "skipped the iteration\n",
            "55\n",
            "60\n"
          ]
        }
      ]
    },
    {
      "cell_type": "markdown",
      "source": [
        "Functions"
      ],
      "metadata": {
        "id": "NAtwHDKuwOd7"
      }
    },
    {
      "cell_type": "code",
      "source": [
        "def add(a,b):\n",
        "  sum = a+b\n",
        "  print(\"your sum is\",sum)\n",
        "\n",
        "def isGreater(a, b):\n",
        "  if a > b:\n",
        "    print(\"first is greater\")\n",
        "  elif a==b:\n",
        "    print(\"numbes are equal\")\n",
        "  else:\n",
        "    print(\"second is greater\")\n",
        "\n",
        "def inComplete(a,b):\n",
        "  pass\n",
        "\n",
        "\n",
        "a=10\n",
        "b=19\n",
        "\n",
        "add(a,b)\n",
        "isGreater(a,b)\n",
        "\n"
      ],
      "metadata": {
        "colab": {
          "base_uri": "https://localhost:8080/"
        },
        "id": "u4UxmrbHwRBr",
        "outputId": "b34c22f7-9180-4780-96c9-5a9df0ac577a"
      },
      "execution_count": 52,
      "outputs": [
        {
          "output_type": "stream",
          "name": "stdout",
          "text": [
            "your sum is 29\n",
            "second is greater\n"
          ]
        }
      ]
    },
    {
      "cell_type": "code",
      "source": [
        "def name(fname, mname, lname):\n",
        "  print(\"hello\",fname, mname, lname)\n",
        "\n",
        "name(\"peter\",\"miller\",\" \")"
      ],
      "metadata": {
        "colab": {
          "base_uri": "https://localhost:8080/"
        },
        "id": "AXsRbiuI-88m",
        "outputId": "7710596d-c9ba-43f0-84ed-3ad53ebd80e8"
      },
      "execution_count": 66,
      "outputs": [
        {
          "output_type": "stream",
          "name": "stdout",
          "text": [
            "hello peter miller  \n"
          ]
        }
      ]
    },
    {
      "cell_type": "code",
      "source": [
        "def average(*numbers):\n",
        "  sum=0\n",
        "  for i in numbers:\n",
        "    sum=sum+i\n",
        "  return(sum/len(numbers))\n",
        "\n",
        "a= average (14,3)\n",
        "\n",
        "print(a)"
      ],
      "metadata": {
        "colab": {
          "base_uri": "https://localhost:8080/"
        },
        "id": "KoQlinfABbZc",
        "outputId": "69353c1b-1b5f-48ba-9ca4-134db6c91037"
      },
      "execution_count": 65,
      "outputs": [
        {
          "output_type": "stream",
          "name": "stdout",
          "text": [
            "8.5\n"
          ]
        }
      ]
    },
    {
      "cell_type": "markdown",
      "source": [
        "List Comprehension"
      ],
      "metadata": {
        "id": "fmmtkR5nPXdS"
      }
    },
    {
      "cell_type": "code",
      "source": [
        "lst = [i*i for i in range(20) if i%2==0]\n",
        "print (lst)\n",
        "\n",
        "names = [\"Milo\", \"Sarah\", \"Bruno\", \"Anastasia\", \"Rosa\"]\n",
        "namesWith_O = [i for i in names if \"o\" in i]\n",
        "print(namesWith_O)"
      ],
      "metadata": {
        "colab": {
          "base_uri": "https://localhost:8080/"
        },
        "id": "t3lbqPjKPe5V",
        "outputId": "9a3dd5f0-8e57-440b-d5f0-6b2f361e5b9a"
      },
      "execution_count": 97,
      "outputs": [
        {
          "output_type": "stream",
          "name": "stdout",
          "text": [
            "[0, 4, 16, 36, 64, 100, 144, 196, 256, 324]\n",
            "['Milo', 'Bruno', 'Rosa']\n"
          ]
        }
      ]
    },
    {
      "cell_type": "markdown",
      "source": [
        "List Methods"
      ],
      "metadata": {
        "id": "km93Yut3DK5r"
      }
    },
    {
      "cell_type": "code",
      "source": [
        "l = [11,45,1,2,4,6,1,1]\n",
        "# print(l)\n",
        "\n",
        "m= l.copy()\n",
        "# m[0] = 0\n",
        "# print(m)\n",
        "# print(l)\n",
        "\n",
        "# this method changes the original list aswell\n",
        "\n",
        "# l = [11,45,1,2,4,6,1,1]\n",
        "# print(l)\n",
        "\n",
        "# m= l\n",
        "# m[0] = 0\n",
        "# print(m)\n",
        "\n",
        "l.append(7)\n",
        "l.sort()\n",
        "l.sort(reverse=True)\n",
        "print(l.index(1))\n",
        "print(l.count(1))\n",
        "l.insert(1, 900)\n",
        "l.extend(m)\n",
        "k = l+m\n",
        "\n",
        "print(k)\n",
        "print(l)\n"
      ],
      "metadata": {
        "colab": {
          "base_uri": "https://localhost:8080/"
        },
        "id": "iWmfS0GYDOKw",
        "outputId": "3694af3e-748a-4761-fd35-083ef54b8000"
      },
      "execution_count": 113,
      "outputs": [
        {
          "output_type": "stream",
          "name": "stdout",
          "text": [
            "6\n",
            "3\n",
            "[45, 900, 11, 7, 6, 4, 2, 1, 1, 1, 11, 45, 1, 2, 4, 6, 1, 1, 11, 45, 1, 2, 4, 6, 1, 1]\n",
            "[45, 900, 11, 7, 6, 4, 2, 1, 1, 1, 11, 45, 1, 2, 4, 6, 1, 1]\n"
          ]
        }
      ]
    },
    {
      "cell_type": "markdown",
      "source": [
        "Tuples\n"
      ],
      "metadata": {
        "id": "tc098hgwkozq"
      }
    },
    {
      "cell_type": "code",
      "source": [
        "tup = (1,2,5,8,98,76,45,67)\n",
        "print(type(tup))\n",
        "print(len(tup))\n",
        "print(tup[-5])\n",
        "\n",
        "# returns a new tuple, original remains same\n",
        "tup2 = tup\n",
        "print(tup2)"
      ],
      "metadata": {
        "colab": {
          "base_uri": "https://localhost:8080/"
        },
        "id": "tpTYFprlkriU",
        "outputId": "2ba7971c-a039-46b0-9ac0-6cd658d54cca"
      },
      "execution_count": 16,
      "outputs": [
        {
          "output_type": "stream",
          "name": "stdout",
          "text": [
            "<class 'tuple'>\n",
            "8\n",
            "8\n",
            "(1, 2, 5, 8, 98, 76, 45, 67)\n"
          ]
        }
      ]
    },
    {
      "cell_type": "markdown",
      "source": [
        "KBC"
      ],
      "metadata": {
        "id": "TXOAUbtlvdoy"
      }
    },
    {
      "cell_type": "code",
      "source": [
        "ques = [[\"Who is the GOAT ?\",\"None\",\n",
        "        \"Cristiano\",\"None\",\"None\", 2],\n",
        "         [\"Who has most goals ?\",\"None\",\n",
        "        \"Cristiano\",\"None\",\"None\", 2],\n",
        "        [\"Who was robbed by FIFA ?\",\"None\",\n",
        "        \"Cristiano\",\"None\",\"None\", 2]]\n",
        "levels = [1000,50000,990000]\n",
        "money = 0\n",
        "\n",
        "for i in range(0, len(ques)):\n",
        "  q = ques[i]\n",
        "  print(f\"Question for Rs {levels[i]}\")\n",
        "  print(f\"a. {q[1]})       b. {q[2]}\")\n",
        "  print(f\"c. {q[3]}        d. {q[4]}\")\n",
        "  reply = int(input(\"enter your ans (1-4)\"))\n",
        "  if(reply ==ques[-1]):\n",
        "    print(f\"correct ans, you won {levels[i]}\")\n",
        "    if(i == 2):\n",
        "      money = 1000\n",
        "    elif (i == 9):\n",
        "      money = 990000\n",
        "  else:\n",
        "    print(\"wrong\")\n",
        "    break"
      ],
      "metadata": {
        "colab": {
          "base_uri": "https://localhost:8080/"
        },
        "id": "kFF8UoHPve-w",
        "outputId": "cc88a845-6bee-4d5f-b29f-4c8efe745800"
      },
      "execution_count": 34,
      "outputs": [
        {
          "output_type": "stream",
          "name": "stdout",
          "text": [
            "Question for Rs 1000\n",
            "a. None)       b. Cristiano\n",
            "c. None        d. None\n",
            "enter your ans (1-4)3\n",
            "wrong\n"
          ]
        }
      ]
    }
  ]
}