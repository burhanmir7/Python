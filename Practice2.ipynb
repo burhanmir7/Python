{
  "nbformat": 4,
  "nbformat_minor": 0,
  "metadata": {
    "colab": {
      "provenance": []
    },
    "kernelspec": {
      "name": "python3",
      "display_name": "Python 3"
    },
    "language_info": {
      "name": "python"
    }
  },
  "cells": [
    {
      "cell_type": "code",
      "execution_count": null,
      "metadata": {
        "id": "nR-DKPGzWx1H"
      },
      "outputs": [],
      "source": [
        "import requests\n",
        "\n",
        "response = requests.get(\"https://www.google.com/\")\n",
        "print(response.text)\n",
        ""
      ]
    },
    {
      "cell_type": "code",
      "source": [
        "import time\n",
        "\n",
        "def multiply(x,y):\n",
        "  print(x*y)\n",
        "  time.sleep(20)\n",
        "\n",
        "print(\"Burhan\")\n",
        "init= time.time()\n",
        "multiply(10,4)\n",
        "print(time.time() - init)\n",
        "\n"
      ],
      "metadata": {
        "colab": {
          "base_uri": "https://localhost:8080/"
        },
        "id": "Oi8IwOTRYyoS",
        "outputId": "0aed258c-776c-4c7a-c013-86085d7c75ac"
      },
      "execution_count": 16,
      "outputs": [
        {
          "output_type": "stream",
          "name": "stdout",
          "text": [
            "Burhan\n",
            "40\n",
            "20.019909858703613\n"
          ]
        }
      ]
    },
    {
      "cell_type": "code",
      "source": [],
      "metadata": {
        "id": "pOO03i4ydA6v"
      },
      "execution_count": null,
      "outputs": []
    },
    {
      "cell_type": "code",
      "source": [
        "\n",
        "class Person:\n",
        "  def __init__(self,id):\n",
        "    self.id = id\n",
        "\n",
        "  def show(self):\n",
        "    print(f\"id is {self.id}\")\n",
        "\n",
        "  def change_val(self):\n",
        "    self.id = self.id *10\n",
        "\n",
        "  @property\n",
        "  def ten_mult(self):\n",
        "    return int(10 * self.id)\n",
        "\n",
        "\n",
        "\n",
        "a = Person(10)\n",
        "a.change_val()\n",
        "a.show()\n",
        "\n",
        "\n",
        "\n",
        "\n",
        "\n",
        "\n"
      ],
      "metadata": {
        "colab": {
          "base_uri": "https://localhost:8080/"
        },
        "id": "Mz0hm7VLX1rk",
        "outputId": "a43d3022-73d9-4496-a7ba-06c17fb4448c"
      },
      "execution_count": 1,
      "outputs": [
        {
          "output_type": "stream",
          "name": "stdout",
          "text": [
            "id is 100\n"
          ]
        }
      ]
    },
    {
      "cell_type": "code",
      "source": [
        "class BankAccount:\n",
        "  def __init__(self,name,balance):\n",
        "    self.name = name\n",
        "    self.balance = balance\n",
        "    print(f\"welome {name},your balance is {balance}\")\n",
        "\n",
        "  def deposit(self,amount):\n",
        "    self.amount = amount\n",
        "    new_balance = amount + self.balance\n",
        "    self.balance = new_balance\n",
        "    print(f\"{amount} added, New balance is {self.balance}\")\n",
        "\n",
        "  def withdraw(self,amount):\n",
        "    self.amount = amount\n",
        "    new_balance = self.balance - amount\n",
        "    self.balance = new_balance\n",
        "    print(f\"{amount} withrawed, New balance is {self.balance}\")\n",
        "\n",
        "  def showBal(self):\n",
        "    print(f\"Your current balance is {self.balance}\")\n",
        "\n",
        "a = BankAccount(\"Buri\",9000)\n",
        "a.deposit(1000)\n",
        "a.withdraw(4000)\n",
        "a.showBal()\n"
      ],
      "metadata": {
        "colab": {
          "base_uri": "https://localhost:8080/"
        },
        "id": "jBNUZ9dlcISB",
        "outputId": "93dbe75a-6cbb-4ff7-b730-3162595d9e08"
      },
      "execution_count": 14,
      "outputs": [
        {
          "output_type": "stream",
          "name": "stdout",
          "text": [
            "welome Buri,your balance is 9000\n",
            "1000 added, New balance is 10000\n",
            "4000 withrawed, New balance is 6000\n",
            "Your current balance is 6000\n"
          ]
        }
      ]
    },
    {
      "cell_type": "code",
      "source": [
        "class Car:\n",
        "    def __init__(self, make, model):\n",
        "        self.make = make\n",
        "        self.model = model\n",
        "        self.speed = 0\n",
        "\n",
        "    def display_info(self):\n",
        "        print(f\"{self.make} {self.model} is at {self.speed} speed\")\n",
        "\n",
        "    def maxSpeed(fx):\n",
        "      def wrapper(self,speed):\n",
        "        if self.speed + speed <= 180:\n",
        "          fx(self,speed)\n",
        "        else:\n",
        "          print(\"Speed Limit reached\")\n",
        "      return wrapper\n",
        "\n",
        "    @maxSpeed\n",
        "    def accelerate(self, speed):\n",
        "        self.speed += speed\n",
        "\n",
        "    def decelerate(self, speed):\n",
        "        self.speed = max(0, self.speed - speed)\n",
        "\n",
        "\n",
        "\n",
        "a = Car(\"Mercedes\", \"Benz\")\n",
        "a.accelerate(100)\n",
        "a.decelerate(50)\n",
        "a.accelerate(199)\n",
        "a.decelerate(5)\n",
        "a.display_info()"
      ],
      "metadata": {
        "colab": {
          "base_uri": "https://localhost:8080/"
        },
        "id": "dnVCL_Zn5_vo",
        "outputId": "95e35927-825c-48c8-9223-693c7d76162e"
      },
      "execution_count": 94,
      "outputs": [
        {
          "output_type": "stream",
          "name": "stdout",
          "text": [
            "Speed Limit reached\n",
            "Mercedes Benz is at 45 speed\n"
          ]
        }
      ]
    },
    {
      "cell_type": "code",
      "source": [
        "class Customer:\n",
        "  def __init__ (self,name):\n",
        "    self.name = name\n",
        "    self.balance = 0\n",
        "    self.transactions = []\n",
        "\n",
        "  def display_info(self):\n",
        "    print(f\"Customer: {self.name}'s Statement is as {self.transactions} and balance is ${self.balance}\")\n",
        "\n",
        "  def check_fund(func):\n",
        "    def wrapper(self,amount):\n",
        "      if amount <= self.balance:\n",
        "        func(self,amount)\n",
        "      else:\n",
        "        print(\"Insufficient Funds\")\n",
        "    return wrapper\n",
        "\n",
        "  def diposite(self,amount):\n",
        "    self.balance = self.balance + amount\n",
        "    self.transactions.append(f\"+{amount}\")\n",
        "\n",
        "  @check_fund\n",
        "  def withdraw(self,amount):\n",
        "    self.balance = self.balance - amount\n",
        "    self.transactions.append(f\"-{amount}\")\n",
        "\n",
        "\n",
        "a = Customer(\"Buri\")\n",
        "a.display_info()\n",
        "a.diposite(1000)\n",
        "a.diposite(2000)\n",
        "a.diposite(3000)\n",
        "a.withdraw(2000)\n",
        "a.withdraw(5000)\n",
        "a.display_info()\n",
        "\n"
      ],
      "metadata": {
        "colab": {
          "base_uri": "https://localhost:8080/"
        },
        "id": "D7cndzGO9M1F",
        "outputId": "bd5e1ec3-fe1b-44fd-e805-f765072615f1"
      },
      "execution_count": 129,
      "outputs": [
        {
          "output_type": "stream",
          "name": "stdout",
          "text": [
            "Customer: Buri's Statement is as [] and balance is $0\n",
            "Insufficient Funds\n",
            "Customer: Buri's Statement is as ['+1000', '+2000', '+3000', '-2000'] and balance is $4000\n"
          ]
        }
      ]
    },
    {
      "cell_type": "code",
      "source": [
        "class Inventory:\n",
        "  def __init__ (self):\n",
        "    self.products = []\n",
        "\n",
        "  def unique_identifier(func):\n",
        "    def wrapper(self,product,id):\n",
        "      if any(existing_id == id for existing_id in [p.split(\"ID: \")[1][:-1] for p in self.products]):\n",
        "            print(f\"Error: ID {id} is already in use. Please choose a unique ID.\")\n",
        "      else:\n",
        "        func(self,product,id)\n",
        "    return wrapper\n",
        "\n",
        "\n",
        "  def display_products(self):\n",
        "    print(f\"Products in Invevtory are :{self.products}\")\n",
        "\n",
        "  @unique_identifier\n",
        "  def add_product(self,product,id):\n",
        "    self.id =id\n",
        "    self.products.append(f\"({product} ID: {id})\")\n",
        "\n",
        "  def remove_product(self,id):\n",
        "    self.products = [item for item in self.products if f'ID: {id}' not in item]\n",
        "\n",
        "a = Inventory()\n",
        "a.add_product(\"Bags\",2)\n",
        "a.add_product(\"Pens\",3)\n",
        "a.add_product(\"Books\",4)\n",
        "\n",
        "a.add_product(\"Fruits\",7)\n",
        "a.add_product(\"Laptops\",7)\n",
        "a.remove_product(3)\n",
        "a.display_products()\n",
        ""
      ],
      "metadata": {
        "colab": {
          "base_uri": "https://localhost:8080/"
        },
        "id": "S9fLsxClQ6lI",
        "outputId": "cd3a3cb3-1877-4fea-8bbc-3f61307677b8"
      },
      "execution_count": 188,
      "outputs": [
        {
          "output_type": "stream",
          "name": "stdout",
          "text": [
            "Products in Invevtory are :['(Bags ID: 2)', '(Books ID: 4)', '(Fruits ID: 7)', '(Laptops ID: 7)']\n"
          ]
        }
      ]
    },
    {
      "cell_type": "code",
      "source": [
        "class Library:\n",
        "  def __init__ (self):\n",
        "    self.books = []\n",
        "\n",
        "  def check_availability(func):\n",
        "    def wrapper(self,title):\n",
        "      for book in self.books:\n",
        "        if title not in book:\n",
        "          continue\n",
        "        else:\n",
        "          break\n",
        "      else:\n",
        "        print(\"Not Available\")\n",
        "        return\n",
        "        func(self,title)\n",
        "    return wrapper\n",
        "\n",
        "\n",
        "\n",
        "\n",
        "  def display_books(self):\n",
        "    print(f\"Available Books: {self.books}\")\n",
        "\n",
        "  def add_book(self,title,author):\n",
        "    self.books.append(f\"Book: {title},By: {author}\")\n",
        "\n",
        "  @check_availability\n",
        "  def remove_book(self,title):\n",
        "    self.books = list(book for book in self.books if title not in book)\n",
        "\n",
        "a = Library()\n",
        "a.add_book(\"The Cat of Srinagar\",\"Jhon Oliver\")\n",
        "a.add_book(\"The Cat of Japan\",\"Kareem Benzema\")\n",
        "a.add_book(\"The Cat of Ladakh\",\"Jhon Oslo\")\n",
        "a.remove_book(\"The Cat of Ladakh\")\n",
        "a.display_books()"
      ],
      "metadata": {
        "colab": {
          "base_uri": "https://localhost:8080/"
        },
        "id": "ZxqH77Qr8c4e",
        "outputId": "2ea6fcf0-ace2-4379-a368-009f30b7221e"
      },
      "execution_count": 4,
      "outputs": [
        {
          "output_type": "stream",
          "name": "stdout",
          "text": [
            "Available Books: ['Book: The Cat of Srinagar,By: Jhon Oliver', 'Book: The Cat of Japan,By: Kareem Benzema', 'Book: The Cat of Ladakh,By: Jhon Oslo']\n"
          ]
        }
      ]
    },
    {
      "cell_type": "code",
      "source": [
        "class Fraction:\n",
        "  def __init__(self, numerator, denominator):\n",
        "    self.numerator = numerator\n",
        "    self.denominator = denominator\n",
        "\n",
        "  def __str__(self):\n",
        "    return  f\"{self.numerator}/{self.denominator}\"\n",
        "\n",
        "  def add(self, other):\n",
        "    result_adition = (self.numerator/self.denomirator) + other\n",
        "\n",
        "a = Fraction(4,7)\n",
        "print(a.__str__())"
      ],
      "metadata": {
        "colab": {
          "base_uri": "https://localhost:8080/"
        },
        "id": "FPt_-KSh-YVM",
        "outputId": "f2d59754-e09c-4d69-cc95-6e9b18e93c15"
      },
      "execution_count": 7,
      "outputs": [
        {
          "output_type": "stream",
          "name": "stdout",
          "text": [
            "4/7\n"
          ]
        }
      ]
    },
    {
      "cell_type": "code",
      "source": [
        "class BankAccount:\n",
        "  def __init__(self,name,balance):\n",
        "    self._name = name\n",
        "    self._balance = balance\n",
        "    print(f\"welome {name},your balance is {balance}\")\n",
        "\n",
        "  def deposit(self,amount):\n",
        "    self.balance = self.balance + amount\n",
        "    print(f\"{amount} added, New balance is {self.balance}\")\n",
        "\n",
        "  def withdraw(self,amount):\n",
        "    self.balance = self.balance - amount\n",
        "    print(f\"{amount} withrawed, New balance is {self.balance}\")\n",
        "\n",
        "  def showBal(self):\n",
        "    print(f\"Your current balance is {self._balance}\")\n",
        "\n",
        "a = BankAccount(\"Buri\",9000)\n",
        "a.deposit(1000)\n",
        "a.withdraw(4000)\n",
        "a.showBal()"
      ],
      "metadata": {
        "colab": {
          "base_uri": "https://localhost:8080/"
        },
        "id": "6EKtbRP2Dn9U",
        "outputId": "1d2ee9ec-a7a1-48e5-d665-07794bf44fdb"
      },
      "execution_count": 9,
      "outputs": [
        {
          "output_type": "stream",
          "name": "stdout",
          "text": [
            "welome Buri,your balance is 9000\n",
            "1000 added, New balance is 10000\n",
            "4000 withrawed, New balance is 6000\n",
            "Your current balance is 6000\n"
          ]
        }
      ]
    },
    {
      "cell_type": "code",
      "source": [
        "class Student:\n",
        "  def __init__(self, name, age):\n",
        "    self._name = name\n",
        "    self._age = age\n",
        "    self._grades = []\n",
        "\n",
        "  def get_name(self):\n",
        "    return self._name\n",
        "\n",
        "  def set_name(self, new_name):\n",
        "    self._name = new_name\n",
        "\n",
        "\n",
        "  def get_age(self):\n",
        "    return self._age\n",
        "\n",
        "  def set_age(self,new_age):\n",
        "    if new_age > 0:\n",
        "      self._age = new_age\n",
        "\n",
        "  def get_grades(self):\n",
        "    return self._grades\n",
        "\n",
        "  def set_grades(self,new_grades):\n",
        "    validated_grades = [grade for grade in new_grades if 0 <= grade <= 100]\n",
        "    self._grades = validated_grades\n",
        "\n",
        "  def calculate_gpa(self):\n",
        "    if not self._grades:\n",
        "      return \"GPA: Not available\"\n",
        "    else:\n",
        "      gpa = sum(self._grades) / len(self._grades)\n",
        "      return f\"GPA: {gpa:.2f}\"\n",
        "\n",
        "  def display_info(self):\n",
        "    print(f\"Student Information:\\nName: {self._name}\\nAge: {self._age}\\nGrades: {self._grades}\\n{self.calculate_gpa()}\")\n",
        "\n",
        "\n",
        "a = Student(\"Hasaaan\", 25)\n",
        "a.set_age(89)\n",
        "a.set_grades([5,6,7,8,9,4])\n",
        "a.display_info()\n",
        "\n",
        "\n"
      ],
      "metadata": {
        "colab": {
          "base_uri": "https://localhost:8080/"
        },
        "id": "V21jIXpmMM-U",
        "outputId": "c9fe52e0-473d-4ec2-e4b9-14c5439dd79c"
      },
      "execution_count": 11,
      "outputs": [
        {
          "output_type": "stream",
          "name": "stdout",
          "text": [
            "Student Information:\n",
            "Name: Hasaaan\n",
            "Age: 89\n",
            "Grades: [5, 6, 7, 8, 9, 4]\n",
            "GPA: 6.50\n"
          ]
        }
      ]
    },
    {
      "cell_type": "code",
      "source": [
        "class MoviesDatabase:\n",
        "  def __init__(self):\n",
        "    self._movies = []\n",
        "\n",
        "  def get_rating(self):\n",
        "    return self._rating\n",
        "\n",
        "  def set_rating(self,new_rating):\n",
        "    if new_rating is float > 0.0 and new_rating < 10.0:\n",
        "      self._rating = new_rating\n",
        "\n",
        "\n",
        "  def add_movie(self,title,director,rating):\n",
        "    self._title = title\n",
        "    self._director = director\n",
        "    self._rating = rating\n",
        "    self._movies.append(f\"Movie: {title}, By: {director} IMDB: {rating} \")\n",
        "\n",
        "  def remove_movie(self,title):\n",
        "    self._movies = list(name for name in self._movies if title not in name)\n",
        "\n",
        "  def display_movies(self):\n",
        "    print(self._movies)\n",
        "\n",
        "a = MoviesDatabase()\n",
        "a.add_movie(\"Inception\", \"Christopher Nolan\", 8.7)\n",
        "a.add_movie(\"The Shawshank Redemption\", \"Frank Darabont\", 9.3)\n",
        "a.add_movie(\"The Dark Knight\", \"Christopher Nolan\", 9.0)\n",
        "a.add_movie(\"Interstellar\", \"Christopher Nolan\", 8.6)\n",
        "a.remove_movie(\"Inception\")\n",
        "\n",
        "a.display_movies()"
      ],
      "metadata": {
        "colab": {
          "base_uri": "https://localhost:8080/"
        },
        "id": "lR16ug3UV033",
        "outputId": "f1ec1a06-ee6d-4c08-d610-7bd9e00aad0d"
      },
      "execution_count": 19,
      "outputs": [
        {
          "output_type": "stream",
          "name": "stdout",
          "text": [
            "['Movie: The Shawshank Redemption, By: Frank Darabont IMDB: 9.3 ', 'Movie: The Dark Knight, By: Christopher Nolan IMDB: 9.0 ', 'Movie: Interstellar, By: Christopher Nolan IMDB: 8.6 ']\n"
          ]
        }
      ]
    },
    {
      "cell_type": "code",
      "source": [
        "class Class:\n",
        "  def __init__(self):\n",
        "    self._students = []\n",
        "\n",
        "  def add_student(self,name):\n",
        "    self._students.append(name)\n",
        "\n",
        "  def remove_student(self,name):\n",
        "    try:\n",
        "      self._students.remove(name)\n",
        "    except ValueError:\n",
        "      print(\"Student Not Found\")\n",
        "\n",
        "  def get_students(self):\n",
        "    return self._students\n",
        "\n",
        "  def set_name(self,name,new_name):\n",
        "    if name in self._students:\n",
        "      index = self._students.index(name)\n",
        "      self._students[index] = new_name\n",
        "    else:\n",
        "      print(\"Student Not Found\")\n",
        "\n",
        "a = Class()\n",
        "a.add_student(\"Burhan\")\n",
        "a.add_student(\"Rashid\")\n",
        "a.add_student(\"Irfan\")\n",
        "a.add_student(\"Irshad\")\n",
        "a.set_name(\"Rashid\",\"Dawood\")\n",
        "a.remove_student(\"Janan\")\n",
        "\n",
        "print(f\"Students: {a.get_students()}\")"
      ],
      "metadata": {
        "colab": {
          "base_uri": "https://localhost:8080/"
        },
        "id": "vs6MJ1T2tMP1",
        "outputId": "0e86100e-4ae9-4e6c-8501-68d2844cfc53"
      },
      "execution_count": 15,
      "outputs": [
        {
          "output_type": "stream",
          "name": "stdout",
          "text": [
            "Student Not Found\n",
            "Students: ['Burhan', 'Dawood', 'Irfan', 'Irshad']\n"
          ]
        }
      ]
    },
    {
      "cell_type": "code",
      "source": [
        "class Account:\n",
        "  account_counter = 1\n",
        "  def __init__(self,name,balance):\n",
        "    self._name = name\n",
        "    self._account_number = Account.account_counter\n",
        "    self._account_number += 1\n",
        "    self._balance = balance\n",
        "\n",
        "  def get_name(self):\n",
        "    return self._name\n",
        "\n",
        "  def set_name(self, new_name):\n",
        "    self._name = new_name\n",
        "\n",
        "  def get_accountNo(self):\n",
        "    return self._account_number\n",
        "\n",
        "  def set_accountNo(self, new_account_number):\n",
        "    if new_account_number == self._account_number:\n",
        "      print(\"Please choose a unique account no.\")\n",
        "    else:\n",
        "      self._account_number = new_account_number\n",
        "\n",
        "  def salaam(func):\n",
        "    def wrapper(self):\n",
        "      print(f\"Asalmualikum {self._name}\")\n",
        "      func(self)\n",
        "    return wrapper\n",
        "\n",
        "  def get_balance(self):\n",
        "    return self._balance\n",
        "\n",
        "  def set_balance(self,new_balance):\n",
        "    if new_balance is not float and new_balance < 0 :\n",
        "      print(\"Balance cant be negative\")\n",
        "    else:\n",
        "      self._balance = new_balance\n",
        "\n",
        "  def deposit(self,amount):\n",
        "    self._balance = self._balance + amount\n",
        "\n",
        "  def withdraw(self,amount):\n",
        "    if amount < self._balance:\n",
        "      self._balance = self._balance - amount\n",
        "    else:\n",
        "      print(\"Insufficient Funds\")\n",
        "\n",
        "\n",
        "\n",
        "  @salaam\n",
        "  def display_info(self):\n",
        "    print(f\"Name: {self._name} \\nAcc No. {self._account_number} \\nBal ${self._balance}\")\n",
        "\n",
        "a = Account(\"Burhan\",1000)\n",
        "a.set_accountNo(9)\n",
        "b = Account(\"Farhan\",1000)\n",
        "a.deposit(3500)\n",
        "a.withdraw(560)\n",
        "a.set_balance(99000)\n",
        "a.set_balance(-99000)\n",
        "a.display_info()\n",
        "b.display_info()"
      ],
      "metadata": {
        "colab": {
          "base_uri": "https://localhost:8080/"
        },
        "id": "DNj9ewkz709j",
        "outputId": "98e7c0f9-32bb-4da6-8ce6-e05841a36954"
      },
      "execution_count": 58,
      "outputs": [
        {
          "output_type": "stream",
          "name": "stdout",
          "text": [
            "Balance cant be negative\n",
            "Asalmualikum Burhan\n",
            "Name: Burhan \n",
            "Acc No. 9 \n",
            "Bal $99000\n",
            "Asalmualikum Farhan\n",
            "Name: Farhan \n",
            "Acc No. 2 \n",
            "Bal $1000\n"
          ]
        }
      ]
    },
    {
      "cell_type": "code",
      "source": [
        "# /////////////////\n",
        "\n",
        "class Counter:\n",
        "  count = 0\n",
        "  def __init__(self):\n",
        "    self.current_count = 0\n",
        "\n",
        "  @classmethod\n",
        "  def increment(cls):\n",
        "    cls.count = cls.count + 1\n",
        "\n",
        "  def get_count(cls):\n",
        "    return cls.count\n",
        "\n",
        "  @classmethod\n",
        "  def reset_count(cls):\n",
        "    cls.count = 0\n",
        "\n",
        "a = Counter()\n",
        "a.increment()\n",
        "a.increment()\n",
        "a.increment()\n",
        "\n",
        "print(a.get_count())\n",
        "print(a.count)\n",
        "print(Counter.count)\n",
        "a.increment()\n",
        "a.increment()\n",
        "a.increment()\n",
        "print(a.get_count())\n",
        "a.reset_count()\n",
        "print(a.get_count())\n",
        ""
      ],
      "metadata": {
        "colab": {
          "base_uri": "https://localhost:8080/"
        },
        "id": "rvoBqae8efmb",
        "outputId": "ea8987e8-75e3-4220-eaad-1d6e739a36ca"
      },
      "execution_count": 75,
      "outputs": [
        {
          "output_type": "stream",
          "name": "stdout",
          "text": [
            "3\n",
            "3\n",
            "3\n",
            "6\n",
            "0\n"
          ]
        }
      ]
    },
    {
      "cell_type": "code",
      "source": [
        "class Product:\n",
        "  products = []\n",
        "\n",
        "  def __init__(self, product_id, name, price):\n",
        "    self.product_id = product_id\n",
        "    self.name = name\n",
        "    self.price = price\n",
        "    Product.products.append(self)\n",
        "\n",
        "  @classmethod\n",
        "  def display_product(cls, product_id):\n",
        "    for product in cls.products:\n",
        "      if product.product_id == product_id:\n",
        "        print(f\"{product.product_id},{product.name},{product.price}\")\n",
        "\n",
        "\n",
        "  @classmethod\n",
        "  def discount(cls,percentage):\n",
        "    for product in cls.products:\n",
        "      product.price = product.price - ((product.price / 100) * percentage)\n",
        "\n",
        "a = Product(1,\"Books\",99)\n",
        "a = Product(2, \"Smartphone\", 800.0)\n",
        "a = Product(3, \"Headphones\", 100.0)\n",
        "a.discount(9)\n",
        "Product.display_product(2)\n",
        "Product.display_product(3)"
      ],
      "metadata": {
        "colab": {
          "base_uri": "https://localhost:8080/"
        },
        "id": "YFi4Eia4ldFl",
        "outputId": "ae5f38dc-8876-4654-f4cd-6a7d180612a6"
      },
      "execution_count": 111,
      "outputs": [
        {
          "output_type": "stream",
          "name": "stdout",
          "text": [
            "2,Smartphone,728.0\n",
            "3,Headphones,91.0\n"
          ]
        }
      ]
    },
    {
      "cell_type": "code",
      "source": [
        "class Account:\n",
        "  accounts = []\n",
        "  def __init__(self, account_number, owner_name):\n",
        "    self.account_number = account_number\n",
        "    self.owner_name = owner_name\n",
        "    self.balance = 0\n",
        "    Account.accounts.append(self)\n",
        "\n",
        "  def deposit(self,amount):\n",
        "    self.balance = self.balance + amount\n",
        "\n",
        "  def withdraw(self,amount):\n",
        "    self.balance = self.balance - amount\n",
        "\n",
        "  def get_balance(self):\n",
        "    return self.balance\n",
        "\n",
        "class SavingsAccount(Account):\n",
        "  def __init__ (self,account_number, owner_name,interest_rate = 0.02):\n",
        "    super().__init__(account_number, owner_name)\n",
        "    self.interest_rate = interest_rate\n",
        "\n",
        "  def add_interest(self):\n",
        "    self.balance = self.balance + (self.balance * self.interest_rate)\n",
        "\n",
        "\n",
        "\n",
        "\n",
        "\n",
        "\n",
        "\n",
        "\n",
        "\n",
        "a=Account(123,\"Mir Burhan\")\n",
        "a.deposit(10000)\n",
        "a.withdraw(3000)\n",
        "# a = SavingsAccount(a.Account)\n",
        "print(a.get_balance())"
      ],
      "metadata": {
        "colab": {
          "base_uri": "https://localhost:8080/"
        },
        "id": "htHzDFIR4ZwV",
        "outputId": "e80c4915-7431-4a7d-fff1-bb96b12be4cc"
      },
      "execution_count": 130,
      "outputs": [
        {
          "output_type": "stream",
          "name": "stdout",
          "text": [
            "7000\n"
          ]
        }
      ]
    },
    {
      "cell_type": "code",
      "source": [
        "class Vehcle:\n",
        "  def __init__(self, make, model):\n",
        "    self.make = make\n",
        "    self.model = model\n",
        "\n",
        "  def info(self):\n",
        "    print(f\"{self.make},{self.model}\")\n",
        "\n",
        "class Car(Vehcle):\n",
        "  def __init__ (self, make,model,year):\n",
        "    super().__init__(make, model)\n",
        "    self.year = year\n",
        "\n",
        "  def oldOrNot(self):\n",
        "    if self.year < 2000:\n",
        "      print(f\"{self.make},{self.model} is an old car\")\n",
        "    else:\n",
        "      print(f\"{self.make},{self.model} is an new car {self.year}\")\n",
        "\n",
        "  @staticmethod\n",
        "  def greet():\n",
        "    print(\"hello\")\n",
        "\n",
        "  def info(self):\n",
        "    super().info()\n",
        "    print(f\"{self.make},{self.model} ,{self.year}\")\n",
        "\n",
        "a = Vehcle(\"Maruti\", \"jimmny\")\n",
        "\n",
        "a.info()\n",
        "\n",
        "\n",
        "b = Car(\"Maruti\",\"swift\",1999)\n",
        "b.greet()\n",
        "b.oldOrNot()\n",
        "b.info()\n"
      ],
      "metadata": {
        "colab": {
          "base_uri": "https://localhost:8080/"
        },
        "id": "k7Zw3hELU1sl",
        "outputId": "0c149e13-687b-470c-f411-d854c945902b"
      },
      "execution_count": 27,
      "outputs": [
        {
          "output_type": "stream",
          "name": "stdout",
          "text": [
            "Maruti,jimmny\n",
            "hello\n",
            "Maruti,swift is an old car\n",
            "Maruti,swift\n",
            "Maruti,swift ,1999\n"
          ]
        }
      ]
    },
    {
      "cell_type": "code",
      "source": [
        "import time\n",
        "\n",
        "oneTen()\n",
        "a = time.time()\n",
        "time.sleep(3)\n",
        "print(time.time()-a)"
      ],
      "metadata": {
        "colab": {
          "base_uri": "https://localhost:8080/"
        },
        "id": "3ADdfCdac5A0",
        "outputId": "0e544719-c2de-40e1-bb01-4f2da5271b8b"
      },
      "execution_count": 38,
      "outputs": [
        {
          "output_type": "stream",
          "name": "stdout",
          "text": [
            "0\n",
            "1\n",
            "2\n",
            "3\n",
            "4\n",
            "5\n",
            "6\n",
            "7\n",
            "8\n",
            "9\n",
            "3.003427028656006\n"
          ]
        }
      ]
    }
  ]
}