{
  "nbformat": 4,
  "nbformat_minor": 0,
  "metadata": {
    "colab": {
      "provenance": []
    },
    "kernelspec": {
      "name": "python3",
      "display_name": "Python 3"
    },
    "language_info": {
      "name": "python"
    }
  },
  "cells": [
    {
      "cell_type": "code",
      "execution_count": 2,
      "metadata": {
        "colab": {
          "base_uri": "https://localhost:8080/"
        },
        "id": "VzAgAocW3jiZ",
        "outputId": "ac9bb573-014f-4317-fea0-a257e944f321"
      },
      "outputs": [
        {
          "output_type": "stream",
          "name": "stdout",
          "text": [
            "enter: buri\n",
            "abcburi567\n"
          ]
        }
      ],
      "source": [
        "a = input(\"enter: \")\n",
        "\n",
        "print(f\"abc{a}567\")"
      ]
    },
    {
      "cell_type": "code",
      "source": [
        "# short if else\n",
        "a=9\n",
        "b=8\n",
        "print(a) if a > b else print(f\"{a}={b}\") if a == b else print(b)"
      ],
      "metadata": {
        "colab": {
          "base_uri": "https://localhost:8080/"
        },
        "id": "Dy2d1IIbNbZO",
        "outputId": "3dc1ede1-2acd-43ba-a994-afcd14350805"
      },
      "execution_count": 5,
      "outputs": [
        {
          "output_type": "stream",
          "name": "stdout",
          "text": [
            "9\n"
          ]
        }
      ]
    },
    {
      "cell_type": "code",
      "source": [
        "# ////We can use enumerate to get index aswell\n",
        "# along with the item\n",
        "\n",
        "\n",
        "# marks = [12,23,24,99,56,1,9,3,5]\n",
        "# index = 0\n",
        "# for mark in marks:\n",
        "#   print(mark)\n",
        "#   index +=1\n",
        "#   if (index == 3):\n",
        "#     print(\"Buri is awesome!\")\n",
        "\n",
        "marks = [12,23,24,99,56,1,9,3,5]\n",
        "\n",
        "for index, mark in enumerate(marks,start=1):\n",
        "  print(mark)\n",
        "  if (index == 3):\n",
        "    print(\"Buri is awesome!\")\n",
        "\n",
        "\n",
        "\n",
        ""
      ],
      "metadata": {
        "colab": {
          "base_uri": "https://localhost:8080/"
        },
        "id": "Nr2TFmcROoxW",
        "outputId": "def74db7-260a-49a0-ac69-95fa7d74fbef"
      },
      "execution_count": 30,
      "outputs": [
        {
          "output_type": "stream",
          "name": "stdout",
          "text": [
            "12\n",
            "23\n",
            "24\n",
            "Buri is awesome!\n",
            "99\n",
            "56\n",
            "1\n",
            "9\n",
            "3\n",
            "5\n"
          ]
        }
      ]
    },
    {
      "cell_type": "code",
      "source": [
        "x = 10 #global variable\n",
        "\n",
        "def func():\n",
        "  global x #this enables us to take global into func\n",
        "  x= 5\n",
        "  y= 5 #local variable\n",
        "  print(y)\n",
        "\n",
        "func()\n",
        "print(x)\n",
        "# print(y) this will show error as it local\n",
        "# print(y)\n",
        "# local cant be accessed outside this function"
      ],
      "metadata": {
        "colab": {
          "base_uri": "https://localhost:8080/"
        },
        "id": "lfGPuDxnkB3S",
        "outputId": "255b94b2-8c0f-4010-9dd7-735a448407e1"
      },
      "execution_count": 17,
      "outputs": [
        {
          "output_type": "stream",
          "name": "stdout",
          "text": [
            "5\n",
            "5\n"
          ]
        }
      ]
    },
    {
      "cell_type": "code",
      "source": [
        "def func():\n",
        "  try:\n",
        "    l = [1,2,3,4,5,6]\n",
        "    i = int(input(\"enter the index: \"))\n",
        "    print(l[i])\n",
        "    return True\n",
        "  except:\n",
        "    print(\"Some Error\")\n",
        "    return False\n",
        "\n",
        "  finally:\n",
        "    print(\"i am always executed\")\n",
        "\n",
        "x = func()\n",
        "print(x)"
      ],
      "metadata": {
        "colab": {
          "base_uri": "https://localhost:8080/"
        },
        "id": "Mbalp8zdmaE9",
        "outputId": "ab12356c-e2f9-4622-cc27-e6886112afc1"
      },
      "execution_count": 15,
      "outputs": [
        {
          "output_type": "stream",
          "name": "stdout",
          "text": [
            "enter the index: 9\n",
            "Some Error\n",
            "i am always executed\n",
            "False\n"
          ]
        }
      ]
    },
    {
      "cell_type": "code",
      "source": [
        "f = open(\"file.txt\", \"r\")\n",
        "while True:\n",
        "    line = f.readline()\n",
        "    if not line:\n",
        "        break\n",
        "    m1= line.split(\",\")[0]\n",
        "    m2= line.split(\",\")[1]\n",
        "    m3= line.split(\",\")[2]\n",
        "    print(m1)\n",
        "    print(m2)\n",
        "    print(m3)\n",
        "\n",
        ""
      ],
      "metadata": {
        "id": "SfWZGs-vaIoW"
      },
      "execution_count": null,
      "outputs": []
    },
    {
      "cell_type": "code",
      "source": [
        "f.seek(10)\n",
        "# it moves the current position to 10(byte) places\n",
        "\n",
        "\n",
        "f.tell()\n",
        "# it gives us the current position(in above case it will return 10)\n",
        "\n",
        "f.truncates(5)\n",
        "# it limits the writing to only given characters."
      ],
      "metadata": {
        "id": "0oL2JPm6aO0I"
      },
      "execution_count": null,
      "outputs": []
    },
    {
      "cell_type": "code",
      "source": [
        "# Lambda function are mini functions\n",
        "# these are mainly used to pass as an argument to other functions\n",
        "lambda x : x*10\n",
        "\n",
        "add = lambda x,y : x+y\n",
        "\n",
        "def new(fx,value):\n",
        "  return 10 + fx(value)\n",
        "\n",
        "\n",
        "print(new(lambda x : x*10,10))\n",
        "print(add(6,8))\n",
        "print(a(10))"
      ],
      "metadata": {
        "colab": {
          "base_uri": "https://localhost:8080/"
        },
        "id": "xG6sZLiQs7dC",
        "outputId": "1bcf4db2-116f-4e34-85ba-2cb946babe94"
      },
      "execution_count": 6,
      "outputs": [
        {
          "output_type": "stream",
          "name": "stdout",
          "text": [
            "110\n",
            "14\n",
            "100\n"
          ]
        }
      ]
    },
    {
      "cell_type": "markdown",
      "source": [
        "**Map**"
      ],
      "metadata": {
        "id": "ZObBeR2PyWl3"
      }
    },
    {
      "cell_type": "code",
      "source": [
        "# Map return a new sequence with modified elements.\n",
        "# It applies a function on each element of the sequence.\n",
        "\n",
        "cube = lambda x : x*x*x\n",
        "l = [1,2,3,4,5]\n",
        "\n",
        "newl = []\n",
        "for i in l:\n",
        "  newl.append(cube(i))\n",
        "print(newl)\n",
        "\n",
        "# we acheived the above results with just 1 line\n",
        "mapl = list(map(cube, l))\n",
        "print(mapl)\n"
      ],
      "metadata": {
        "colab": {
          "base_uri": "https://localhost:8080/"
        },
        "id": "h_kMRL67xY6c",
        "outputId": "037776b0-e211-4278-88ce-1fe317504abf"
      },
      "execution_count": 16,
      "outputs": [
        {
          "output_type": "stream",
          "name": "stdout",
          "text": [
            "[1, 8, 27, 64, 125]\n",
            "[1, 8, 27, 64, 125]\n"
          ]
        }
      ]
    },
    {
      "cell_type": "markdown",
      "source": [
        "Filter"
      ],
      "metadata": {
        "id": "HvRUqcQoY2YY"
      }
    },
    {
      "cell_type": "code",
      "source": [
        "# Filter function also alpplies a function to all the elements of the sequence.\n",
        "# It filters a sequence based on a function.\n",
        "l = [1,2,3,4,5]\n",
        "\n",
        "filterl = list(filter(lambda a: a>2, l))\n",
        "print(filterl)"
      ],
      "metadata": {
        "colab": {
          "base_uri": "https://localhost:8080/"
        },
        "id": "-5CEv_Q_Y4s7",
        "outputId": "dda00743-38c6-41b0-d99a-b5a5504a96a1"
      },
      "execution_count": 19,
      "outputs": [
        {
          "output_type": "stream",
          "name": "stdout",
          "text": [
            "[3, 4, 5]\n"
          ]
        }
      ]
    },
    {
      "cell_type": "markdown",
      "source": [
        "Reduce"
      ],
      "metadata": {
        "id": "X64f4f3RbfBk"
      }
    },
    {
      "cell_type": "code",
      "source": [
        "from functools import reduce\n",
        "\n",
        "l = [1,2,3,4,5]\n",
        "\n",
        "sum = reduce(lambda x,y:x+y,l)\n",
        "print(sum)"
      ],
      "metadata": {
        "colab": {
          "base_uri": "https://localhost:8080/"
        },
        "id": "FPHQ1A25bhIT",
        "outputId": "8707ab17-e97b-4127-e509-5eb0e5c22639"
      },
      "execution_count": 20,
      "outputs": [
        {
          "output_type": "stream",
          "name": "stdout",
          "text": [
            "15\n"
          ]
        }
      ]
    },
    {
      "cell_type": "code",
      "source": [
        "# 'is' vs '=='\n",
        "# both are comparison operators\n",
        "\n",
        "a = [4,5,6]\n",
        "b = [4,5,6]\n",
        "\n",
        "print(a is b) # exact location of object in memory(exactly same(one))\n",
        "# this returns true for immutable objects\n",
        "\n",
        "print(a == b) #value is same"
      ],
      "metadata": {
        "colab": {
          "base_uri": "https://localhost:8080/"
        },
        "id": "an67Onw72ClG",
        "outputId": "b7347019-0213-4aff-b0ab-b709c920b7d9"
      },
      "execution_count": 24,
      "outputs": [
        {
          "output_type": "stream",
          "name": "stdout",
          "text": [
            "False\n",
            "True\n"
          ]
        }
      ]
    },
    {
      "cell_type": "markdown",
      "source": [],
      "metadata": {
        "id": "huV1Z5eQBidK"
      }
    },
    {
      "cell_type": "markdown",
      "source": [
        "# **OOP**"
      ],
      "metadata": {
        "id": "GwkTa14OBigW"
      }
    },
    {
      "cell_type": "code",
      "source": [
        "# Class [blueprint]\n",
        "# Object [entity]"
      ],
      "metadata": {
        "id": "Go7hQ5mCBtPp"
      },
      "execution_count": null,
      "outputs": []
    }
  ]
}