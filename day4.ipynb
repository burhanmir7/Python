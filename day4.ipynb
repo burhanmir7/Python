{
  "nbformat": 4,
  "nbformat_minor": 0,
  "metadata": {
    "colab": {
      "provenance": []
    },
    "kernelspec": {
      "name": "python3",
      "display_name": "Python 3"
    },
    "language_info": {
      "name": "python"
    }
  },
  "cells": [
    {
      "cell_type": "markdown",
      "source": [
        "Recursion\n",
        "If a function is used in itself, its callled a recursive Function."
      ],
      "metadata": {
        "id": "NjH10DA6oB0e"
      }
    },
    {
      "cell_type": "code",
      "source": [
        "def factorial(n):\n",
        "  if n == 0 or n == 1:\n",
        "    return 1\n",
        "  else:\n",
        "    return n * factorial(n - 1)\n",
        "\n",
        "print(factorial(5))\n",
        "# 5 * factorial(4)\n",
        "# 5 * 4 * factorial(3)\n",
        "# 5 * 4 * 3 factorial(2)\n",
        "# 5 * 4 * 3 * 2 factorial(1)\n",
        "# 5 * 4 * 3 * 2 * 1\n",
        "\n",
        "\n",
        "# Fibonacci Sequence\n",
        "def f(n):\n",
        "  if n == 0:\n",
        "    return 0\n",
        "  elif n == 1:\n",
        "    return 1\n",
        "  else:\n",
        "    return f(n-1) + f(n-2)\n",
        "\n",
        "print(f(0))\n",
        "print(f(1))\n",
        "print(f(2))\n",
        "print(f(3))\n",
        "print(f(4))\n",
        "print(f(5))\n",
        "print(f(6))\n",
        "print(f(7))"
      ],
      "metadata": {
        "colab": {
          "base_uri": "https://localhost:8080/"
        },
        "id": "OMHx-rd2oGKn",
        "outputId": "27c62576-a357-4304-a569-274b59f55280"
      },
      "execution_count": 14,
      "outputs": [
        {
          "output_type": "stream",
          "name": "stdout",
          "text": [
            "120\n",
            "0\n",
            "1\n",
            "1\n",
            "2\n",
            "3\n",
            "5\n",
            "8\n",
            "13\n"
          ]
        }
      ]
    },
    {
      "cell_type": "code",
      "source": [
        "a=3\n",
        "\n",
        "if a>1:\n",
        "  print(a)\n",
        "else:\n",
        "  print(1)"
      ],
      "metadata": {
        "colab": {
          "base_uri": "https://localhost:8080/"
        },
        "id": "vDHkr1PXHupF",
        "outputId": "6f78b915-e278-4697-a7b9-f3dd5ac0a817"
      },
      "execution_count": 29,
      "outputs": [
        {
          "output_type": "stream",
          "name": "stdout",
          "text": [
            "3\n"
          ]
        }
      ]
    },
    {
      "cell_type": "code",
      "source": [
        "a = (2,3)\n",
        "\n",
        "print(a[0])"
      ],
      "metadata": {
        "colab": {
          "base_uri": "https://localhost:8080/"
        },
        "id": "Fd4Mm2NyHwrO",
        "outputId": "54604d10-3c08-4149-b42c-36e9bec6d423"
      },
      "execution_count": 17,
      "outputs": [
        {
          "output_type": "stream",
          "name": "stdout",
          "text": [
            "2\n"
          ]
        }
      ]
    },
    {
      "cell_type": "code",
      "source": [
        "def abc(a,b,c):\n",
        "  return [(a+b),(b+c)]\n",
        "\n",
        "a=5\n",
        "b=6\n",
        "c=7\n",
        "\n",
        "result=(abc(5,6,7))\n",
        "print(result)\n",
        "print(type(result))"
      ],
      "metadata": {
        "colab": {
          "base_uri": "https://localhost:8080/"
        },
        "id": "jnaZgI5KJ2M4",
        "outputId": "d729bc45-d202-4b26-88ba-7c95a66db8d6"
      },
      "execution_count": 24,
      "outputs": [
        {
          "output_type": "stream",
          "name": "stdout",
          "text": [
            "[11, 13]\n",
            "<class 'list'>\n"
          ]
        }
      ]
    },
    {
      "cell_type": "markdown",
      "source": [
        "Sets"
      ],
      "metadata": {
        "id": "yHkJVjm9pTJT"
      }
    },
    {
      "cell_type": "code",
      "source": [
        "# cant have same value more than once.\n",
        "# does not maintain order\n",
        "# empty set set={}, will be dict so need to mention set =set().\n",
        "s = {2,4,6,8,2,2}\n",
        "print(s)\n",
        "\n",
        "s1 = {\"buri\",7,8,8,True,8.9}\n",
        "print(s1)"
      ],
      "metadata": {
        "colab": {
          "base_uri": "https://localhost:8080/"
        },
        "id": "irXrXoQVpWV9",
        "outputId": "c76cd8e9-652c-42d5-89ed-a2d91e4e0094"
      },
      "execution_count": 14,
      "outputs": [
        {
          "output_type": "stream",
          "name": "stdout",
          "text": [
            "{8, 2, 4, 6}\n",
            "{8, 2, 4}\n",
            "{True, 'buri', 7, 8, 8.9}\n"
          ]
        }
      ]
    },
    {
      "cell_type": "code",
      "source": [
        "s1 = {1,2,3,4,5}\n",
        "s2 = {4,5}\n",
        "\n",
        "# union doesnt change the original sets\n",
        "# it joins two sets\n",
        "# s3 = s1.union(s2)\n",
        "\n",
        "# update changes the original set s1\n",
        "# s1.update(s2)\n",
        "\n",
        "# intersection shows the  only common elements in both sets.\n",
        "# s4= s1.intersection(s2)\n",
        "\n",
        "# intersection_update changes the original set\n",
        "# s4= s1.intersection_update(s2)\n",
        "\n",
        "# symmetric_difference is the opposite of intersection\n",
        "# and shows only the different elements of two sets\n",
        "# s4 = s1.symmetric_difference(s2)\n",
        "\n",
        "# it gives us the the common elements of set 1,\n",
        "# or we can say it takes out the common elements from set1\n",
        "# which are also present in set 2.\n",
        "# s4 = s1.difference(s2)\n",
        "\n",
        "# isdisjoined give a boolean based on if two sets have an intersection or not.\n",
        "# s4 = s1.isdisjoint(s2)\n",
        "\n",
        "# issuperset give a boolean based on if the values present\n",
        "# the second set are all present in first set.\n",
        "# s4 = s1.issuperset(s2)\n",
        "\n",
        "# issubset give a boolean based on if the values present\n",
        "# the second set are all present in first set.\n",
        "# by this method we check the second set\n",
        "# s4 = s2.issubset(s1)\n",
        "\n",
        "# this method helps us to add only one element to the set\n",
        "# s1.add(10)\n",
        "\n",
        "\n",
        "# both methods are used to remove an element , but if the\n",
        "# element is not present in the set the remove method will show\n",
        "# error while the discard will run\n",
        "# s1.remove(5)\n",
        "# s1.discard(99)\n",
        "\n",
        "\n",
        "# this method removes any random item from the set\n",
        "# item = s1.pop()\n",
        "# print(item)\n",
        "\n",
        "# this deletes the whole set\n",
        "# del s1\n",
        "\n",
        "# this just deletes the contents of the set\n",
        "# s1.clear()\n",
        "\n",
        "print(s1)\n",
        "# print(s4)"
      ],
      "metadata": {
        "colab": {
          "base_uri": "https://localhost:8080/"
        },
        "id": "5F81oylpq3xo",
        "outputId": "ab8a5ef5-3033-4efd-f8d8-a191748f766a"
      },
      "execution_count": 9,
      "outputs": [
        {
          "output_type": "stream",
          "name": "stdout",
          "text": [
            "1\n",
            "{2, 3, 4, 5}\n"
          ]
        }
      ]
    },
    {
      "cell_type": "code",
      "source": [
        "# Dictionary\n",
        "# ordered\n",
        "info = {\"name\" : \"Buri\", \"age\":23,\"eligible\":True}\n",
        "\n",
        "\n",
        "print(info)\n",
        "print(info['age'])\n",
        "\n",
        "# this will give error\n",
        "# print(info['colour'])\n",
        "\n",
        "# this wont\n",
        "print(info.get('colour'))\n",
        "\n",
        "print(info.keys())\n",
        "\n",
        "print(info.values())\n",
        "\n",
        "print(info.items())\n",
        "\n",
        "for key in info.keys():\n",
        "  print(info[key])\n",
        "\n",
        "for key in info:\n",
        "  print(key)"
      ],
      "metadata": {
        "colab": {
          "base_uri": "https://localhost:8080/"
        },
        "id": "b-KH-fRTnI0n",
        "outputId": "d6316c47-52ea-4798-d122-79ab9ffa73c5"
      },
      "execution_count": 20,
      "outputs": [
        {
          "output_type": "stream",
          "name": "stdout",
          "text": [
            "{'name': 'Buri', 'age': 23, 'eligible': True}\n",
            "23\n",
            "None\n",
            "dict_keys(['name', 'age', 'eligible'])\n",
            "dict_values(['Buri', 23, True])\n",
            "dict_items([('name', 'Buri'), ('age', 23), ('eligible', True)])\n",
            "Buri\n",
            "23\n",
            "True\n",
            "name\n",
            "age\n",
            "eligible\n"
          ]
        }
      ]
    },
    {
      "cell_type": "code",
      "source": [
        "dic1 = {\"a\":1,\"b\":2,\"c\":3}\n",
        "dic2 = {\"d\":4,\"e\":5,\"f\":6}\n",
        "\n",
        "# it join the given dict with first\n",
        "dic1.update(dic2)\n",
        "\n",
        "# this method removes the last item from the dict\n",
        "dic1.popitem()\n",
        "\n",
        "# this method removes the given item\n",
        "dic1.pop(\"c\")\n",
        "\n",
        "# deletes the whole dict\n",
        "# del dic1\n",
        "\n",
        "# delets the given item key\n",
        "del dic1['a']\n",
        "\n",
        "print(dic1)"
      ],
      "metadata": {
        "colab": {
          "base_uri": "https://localhost:8080/"
        },
        "id": "6da2VkF5pRQB",
        "outputId": "0f47ff36-1c57-45e0-a76e-7cd073b27187"
      },
      "execution_count": 7,
      "outputs": [
        {
          "output_type": "stream",
          "name": "stdout",
          "text": [
            "{'b': 2, 'd': 4, 'e': 5}\n"
          ]
        }
      ]
    },
    {
      "cell_type": "code",
      "source": [
        "for i in range(6):\n",
        "  print(i)\n",
        "  if i == 3:\n",
        "    print(\"got it\")\n",
        "    break\n",
        "else:\n",
        "  print(\"no i\")"
      ],
      "metadata": {
        "colab": {
          "base_uri": "https://localhost:8080/"
        },
        "id": "lnLd0F-5DPgj",
        "outputId": "284f36a0-feb0-4fd1-c955-40ec059500e4"
      },
      "execution_count": 27,
      "outputs": [
        {
          "output_type": "stream",
          "name": "stdout",
          "text": [
            "0\n",
            "1\n",
            "2\n",
            "3\n",
            "got it\n"
          ]
        }
      ]
    },
    {
      "cell_type": "markdown",
      "source": [
        "Error handling"
      ],
      "metadata": {
        "id": "O5MNnjG_FFg-"
      }
    },
    {
      "cell_type": "code",
      "source": [
        "# Try except Method\n",
        "x = (input(\"enter the number: \"))\n",
        "print(f\"Multiplication table of {x} is:\")\n",
        "\n",
        "\n",
        "try:\n",
        "\n",
        "  for i in range(1,11):\n",
        "    print(f\"{int(x)} x {i} = {int(x)*i}\")\n",
        "except:\n",
        "  print(\"invalid input\")\n",
        "\n",
        ""
      ],
      "metadata": {
        "colab": {
          "base_uri": "https://localhost:8080/"
        },
        "id": "CX-hTGHnFKce",
        "outputId": "17022662-c4f1-4539-95c2-56e53cd71ead"
      },
      "execution_count": 46,
      "outputs": [
        {
          "output_type": "stream",
          "name": "stdout",
          "text": [
            "enter the number: 98989898\n",
            "Multiplication table of 98989898 is:\n",
            "98989898 x 1 = 98989898\n",
            "98989898 x 2 = 197979796\n",
            "98989898 x 3 = 296969694\n",
            "98989898 x 4 = 395959592\n",
            "98989898 x 5 = 494949490\n",
            "98989898 x 6 = 593939388\n",
            "98989898 x 7 = 692929286\n",
            "98989898 x 8 = 791919184\n",
            "98989898 x 9 = 890909082\n",
            "98989898 x 10 = 989898980\n"
          ]
        }
      ]
    },
    {
      "cell_type": "code",
      "source": [
        "\n",
        "#  we can also use multiple except statements\n",
        "\n",
        "try:\n",
        "  num = int(input(\"Enter an integer: \"))\n",
        "  a = [6,3]\n",
        "  print(a[num])\n",
        "except ValueError:\n",
        "  print(\"Value  not an integer\")\n",
        "\n",
        "except IndexError:\n",
        "  print(\"Index Error\")"
      ],
      "metadata": {
        "colab": {
          "base_uri": "https://localhost:8080/"
        },
        "id": "i-159sawl7Bx",
        "outputId": "33eb82c7-befe-4a22-8bfb-2f0a5c7a3332"
      },
      "execution_count": 54,
      "outputs": [
        {
          "output_type": "stream",
          "name": "stdout",
          "text": [
            "Enter an integer: 0\n",
            "6\n"
          ]
        }
      ]
    },
    {
      "cell_type": "code",
      "source": [
        "# we can also use Finally keyword after except\n",
        "# filly will be interpreted even after the function has returned something.\n",
        "def func():\n",
        "  try:\n",
        "    l = [1,2,3,4,5,6]\n",
        "    i = int(input(\"enter the index: \"))\n",
        "    print(l[i])\n",
        "    return True\n",
        "  except:\n",
        "    print(\"Some Error\")\n",
        "    return False\n",
        "\n",
        "  finally:\n",
        "    print(\"i am always executed\")\n",
        "\n",
        "x = func()\n",
        "print(x)"
      ],
      "metadata": {
        "colab": {
          "base_uri": "https://localhost:8080/"
        },
        "id": "EVeMYohtpBLV",
        "outputId": "5275c1d6-e0e6-4308-e308-cf464e06246b"
      },
      "execution_count": 59,
      "outputs": [
        {
          "output_type": "stream",
          "name": "stdout",
          "text": [
            "enter the index: 3\n",
            "4\n",
            "i am always executed\n",
            "1\n"
          ]
        }
      ]
    },
    {
      "cell_type": "code",
      "source": [
        "# Raising Errors (Raise)\n",
        "a = int(input(\"enter between 5 t0 10: \" ))\n",
        "\n",
        "if(a<5 or a>10):\n",
        "  raise ValueError(\"value not correct\")\n",
        ""
      ],
      "metadata": {
        "colab": {
          "base_uri": "https://localhost:8080/"
        },
        "id": "dWyCQBkbqkpk",
        "outputId": "0789de10-5a00-45e4-e26e-a3c624901c6d"
      },
      "execution_count": 69,
      "outputs": [
        {
          "name": "stdout",
          "output_type": "stream",
          "text": [
            "enter between 5 t0 10: 6\n"
          ]
        }
      ]
    }
  ]
}