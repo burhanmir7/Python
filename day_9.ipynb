{
  "nbformat": 4,
  "nbformat_minor": 0,
  "metadata": {
    "colab": {
      "provenance": [],
      "toc_visible": true
    },
    "kernelspec": {
      "name": "python3",
      "display_name": "Python 3"
    },
    "language_info": {
      "name": "python"
    }
  },
  "cells": [
    {
      "cell_type": "markdown",
      "source": [
        "## **OOP**"
      ],
      "metadata": {
        "id": "KQNaVyF2DzBX"
      }
    },
    {
      "cell_type": "code",
      "execution_count": null,
      "metadata": {
        "id": "AxvWDmrzDwrP"
      },
      "outputs": [],
      "source": [
        "# Class [blueprint]\n",
        "# Object [entity]"
      ]
    },
    {
      "cell_type": "code",
      "source": [
        "class Person:\n",
        "  name = \"Burhan\"\n",
        "  occupation = \"Software Developer\"\n",
        "  def det(self):\n",
        "    print(f\"{self.name} is a {self.occupation}\")\n",
        "\n",
        "a = Person()\n",
        "a.name=\"Rashid\"\n",
        "a.occupation = \"Front End Developer\"\n",
        "\n",
        "b = Person()\n",
        "b.name=\"Adnan\"\n",
        "b.occupation = \"Data Scientist\"\n",
        "\n",
        "c = Person()\n",
        "\n",
        "c.det()\n",
        "a.det()\n",
        "b.det()\n"
      ],
      "metadata": {
        "colab": {
          "base_uri": "https://localhost:8080/"
        },
        "id": "n6XT3motAVcy",
        "outputId": "0bb75907-5cf7-49ba-8555-eec9d5a3722c"
      },
      "execution_count": null,
      "outputs": [
        {
          "output_type": "stream",
          "name": "stdout",
          "text": [
            "Burhan is a Software Developer\n",
            "Rashid is a Front End Developer\n",
            "Adnan is a Data Scientist\n"
          ]
        }
      ]
    },
    {
      "cell_type": "code",
      "source": [
        "# //// Constructors\n",
        "# they are used to create an object of a class\n",
        "# constructor is called automatically when an object\n",
        "# of a class is created\n",
        "# init is a initial function a class runs\n",
        "\n",
        "class Person:\n",
        "\n",
        "  def __init__(self, n,o):  #__init__ is a constructor\n",
        "    self.name = n\n",
        "    self.occupation = o\n",
        "    print(f\"{self.name} is a {self.occupation}\")\n",
        "\n",
        "  def det(self):\n",
        "    print(f\"{self.name} is a {self.occupation}\")\n",
        "\n",
        "a = Person(\"Rashid\",\"Front End Developer\" )\n",
        "# whenever we call class function,\n",
        "# __init__ is called automatically\n",
        "\n",
        "b = Person(\"Adnan\",\"Data Scientist\")\n",
        "\n",
        "c = Person(\"Burhan\",\"Scientist\")\n",
        "d = Person(2,3)\n",
        "\n",
        "c.det()\n",
        "a.det()\n",
        "b.det()\n",
        "\n",
        "\n"
      ],
      "metadata": {
        "colab": {
          "base_uri": "https://localhost:8080/"
        },
        "id": "TIJUoQGdGivm",
        "outputId": "6858ff8e-dfcc-49b5-d522-e127aaba0d23"
      },
      "execution_count": null,
      "outputs": [
        {
          "output_type": "stream",
          "name": "stdout",
          "text": [
            "Rashid is a Front End Developer\n",
            "Adnan is a Data Scientist\n",
            "Burhan is a Scientist\n",
            "2 is a 3\n",
            "Burhan is a Scientist\n",
            "Rashid is a Front End Developer\n",
            "Adnan is a Data Scientist\n",
            "buri is a haan\n"
          ]
        }
      ]
    },
    {
      "cell_type": "markdown",
      "source": [
        "Decorators\n"
      ],
      "metadata": {
        "id": "xCSUtx5tPM9q"
      }
    },
    {
      "cell_type": "code",
      "source": [
        "# ///Decorators\n",
        "# these are the function which take other function as input and modify them\n",
        "\n",
        "\n",
        "\n",
        "def greet(fx):\n",
        "  def mfx(*args, **kwargs): #if the function using this has arguments\n",
        "    print(\"Good Morning, Sir\")\n",
        "    fx(*args, **kwargs)\n",
        "  return mfx\n",
        "\n",
        "@greet\n",
        "def hello():\n",
        "  print(\"Hello\")\n",
        "\n",
        "def add(a,b):\n",
        "  print(a+b)\n",
        "\n",
        "def welcome():\n",
        "  print(\"Welcome\")\n",
        "\n",
        "hello()\n",
        "greet(welcome)()\n",
        "greet(add)(2,3)\n"
      ],
      "metadata": {
        "colab": {
          "base_uri": "https://localhost:8080/"
        },
        "id": "67v-MelgPQVP",
        "outputId": "83c6ac96-2c3c-406f-818d-ce533eb26f5e"
      },
      "execution_count": null,
      "outputs": [
        {
          "output_type": "stream",
          "name": "stdout",
          "text": [
            "Good Morning, Sir\n",
            "Hello\n",
            "Good Morning, Sir\n",
            "Welcome\n",
            "Good Morning, Sir\n",
            "5\n"
          ]
        }
      ]
    },
    {
      "cell_type": "code",
      "source": [
        "# Getters & Setters\n",
        "# we can make getter using property decorator\n",
        "# Getter are methods which behave like a property of an object\n",
        "# we can access getters but cannot set them\n",
        "# we have to create setter to set the values of that property\n",
        "\n",
        "class MyClass:\n",
        "  def __init__(self,value):\n",
        "    self._value = value\n",
        "\n",
        "  def show(self):\n",
        "    print(f\"Value is {self._value}\")\n",
        "\n",
        "  @property\n",
        "  def ten_value(self):        #getter function\n",
        "    return 10 * self._value\n",
        "\n",
        "  @ten_value.setter\n",
        "  def ten_value(self, new_value):   #Setter function\n",
        "    self._value = new_value/10\n",
        "\n",
        "\n",
        "obj = MyClass(10)\n",
        "obj.ten_value = 67\n",
        "print(obj.ten_value)\n",
        "obj.show()\n"
      ],
      "metadata": {
        "colab": {
          "base_uri": "https://localhost:8080/"
        },
        "id": "gV56cO0IA9le",
        "outputId": "4a2b2746-1297-47b0-9690-73510d4aa6a8"
      },
      "execution_count": null,
      "outputs": [
        {
          "output_type": "stream",
          "name": "stdout",
          "text": [
            "67.0\n",
            "Value is 6.7\n"
          ]
        }
      ]
    },
    {
      "cell_type": "markdown",
      "source": [
        "Inheritence"
      ],
      "metadata": {
        "id": "Fl2bzvmmLB3F"
      }
    },
    {
      "cell_type": "code",
      "source": [
        "class Employee:\n",
        "  def __init__(self,name, id):\n",
        "    self.name = name\n",
        "    self.id = id\n",
        "\n",
        "  def showDetail(self):\n",
        "    print(f\"{self.name} has {self.id} ID\")\n",
        "\n",
        "class Developer(Employee):\n",
        "  def showLanguage(self):\n",
        "    print(\"Python\")\n",
        "\n",
        "\n",
        "a = Employee(\"Burhan\",980)\n",
        "a.showDetail()\n",
        "\n",
        "a1 = Developer(\"Rashid\",1000)\n",
        "a1.showDetail()\n",
        "a1.showLanguage()\n"
      ],
      "metadata": {
        "colab": {
          "base_uri": "https://localhost:8080/"
        },
        "id": "ezfRLxqBLDlV",
        "outputId": "3ac929dd-2277-4faa-866a-34548ebedd13"
      },
      "execution_count": null,
      "outputs": [
        {
          "output_type": "stream",
          "name": "stdout",
          "text": [
            "Burhan has 980 ID\n",
            "Rashid has 1000 ID\n",
            "Python\n"
          ]
        }
      ]
    },
    {
      "cell_type": "code",
      "source": [
        "# ///Access Modifiers///\n",
        "# Python has no concept of access Modifiers\n",
        "# of if we use (__) then mangling happens otherwise\n",
        "# everything else is normal.\n",
        "\n",
        "\n",
        "# Private Access Modifier(prefix double underscore (__))\n",
        "class Employee:\n",
        "  def __init__(self):\n",
        "    self.__name = \"Irfan\" #we can do Name mangling to name attribute\n",
        "    self.age = 32\n",
        "\n",
        "a = Employee()\n",
        "# print(a.__name) cannot be accessed directly\n",
        "print(a._Employee__name) #but can be accessed indirectly.\n",
        "\n",
        "\n",
        "# /// Protected Access Modifier (prefix single underscore (_))\n",
        "# Just a naming convention\n",
        "# does not provide any protection\n",
        "class Student:\n",
        "  def __init__(self):\n",
        "    self._name = \"Burhan\"\n",
        "    self.age = 24\n",
        "\n",
        "class Subject(Student): #inherited class\n",
        "  pass\n",
        "\n",
        "b = Student()\n",
        "c = Subject()\n",
        "print(c._name)\n",
        "print(b._name) #It can be accessed directly.\n"
      ],
      "metadata": {
        "colab": {
          "base_uri": "https://localhost:8080/"
        },
        "id": "pRYpgSnvskYl",
        "outputId": "4574705b-827c-4812-bd09-74b8d119a7ba"
      },
      "execution_count": null,
      "outputs": [
        {
          "output_type": "stream",
          "name": "stdout",
          "text": [
            "Irfan\n",
            "Burhan\n",
            "Burhan\n"
          ]
        }
      ]
    },
    {
      "cell_type": "code",
      "source": [
        "# /// Static Methods\n",
        "# these methods are inside a class but are independent\n",
        "# they dont need self as an argument.\n",
        "\n",
        "class Math:\n",
        "  def __init__(self,num):\n",
        "    self.num = num\n",
        "\n",
        "  def addtonum(self,n):\n",
        "    self.num = self.num + n\n",
        "\n",
        "  @staticmethod\n",
        "  def add(a,b): #here we saw we dont need self as an argument\n",
        "    return a+ b\n",
        "\n",
        "\n",
        "a = Math(5)\n",
        "print(a.num)\n",
        "\n",
        "a.addtonum(5)\n",
        "print(a.num)\n",
        "\n",
        "print(Math.add(7,8)) # we can call it directly using call name\n",
        "\n",
        "c = a.add(7,8)\n",
        "print(c)"
      ],
      "metadata": {
        "colab": {
          "base_uri": "https://localhost:8080/"
        },
        "id": "jYcfyH_H3TDp",
        "outputId": "72343f25-0f1c-4dbf-d738-c88d81e6d474"
      },
      "execution_count": null,
      "outputs": [
        {
          "output_type": "stream",
          "name": "stdout",
          "text": [
            "5\n",
            "10\n",
            "15\n",
            "15\n"
          ]
        }
      ]
    },
    {
      "cell_type": "code",
      "source": [
        "# /// Instance vs Class Variables\n",
        "# Class variables are shared among all instances of a class\n",
        "# instance variables are different for all instances of a class\n",
        "# instance variables are checked first, if not present\n",
        "# then class variable is looked for\n",
        "\n",
        "class Employee:\n",
        "  companyName = \"Google\" # this is an class variable.\n",
        "  noOfEmployees = 0\n",
        "  def __init__(self,name):\n",
        "    self.name = name\n",
        "    self.id = 970  # this is an instance variabe\n",
        "    Employee.noOfEmployees +=1\n",
        "  def showDetail(self):\n",
        "    print(f\"{self.name} is a #{self.noOfEmployees} Employee of {self.companyName} with ID {self.id}\")\n",
        "\n",
        "emp1 = Employee(\"Buri\")\n",
        "emp1.companyName = \"Meta\" # this becomes instance variable now\n",
        "print(emp1.companyName)\n",
        "print(Employee.companyName)\n",
        "Employee.showDetail(emp1)\n",
        "Employee.companyName = \"Microsoft\" # this changes the class variable\n",
        "print(Employee.companyName)\n",
        "\n",
        "emp2 = Employee(\"Zakir\")\n",
        "emp2.id = 567 # instance variable\n",
        "emp2.showDetail()\n"
      ],
      "metadata": {
        "colab": {
          "base_uri": "https://localhost:8080/"
        },
        "id": "9jHHwa1yBwR-",
        "outputId": "65f541c9-dd2b-4699-9a56-6e74a3bfe53b"
      },
      "execution_count": null,
      "outputs": [
        {
          "output_type": "stream",
          "name": "stdout",
          "text": [
            "Meta\n",
            "Google\n",
            "Buri is a #1 Employee of Meta with ID 970\n",
            "Microsoft\n",
            "Zakir is a #2 Employee of Microsoft with ID 567\n"
          ]
        }
      ]
    },
    {
      "cell_type": "code",
      "source": [
        "# @ classmethod is a decorator which gives us class, instead of instance\n",
        "# it is used to change class variable.\n",
        "# to get class methods\n",
        "\n",
        "class Employee:\n",
        "  companyName = \"Google\"\n",
        "  def showDetail(self):\n",
        "    print(f\"{self.name} is an Employee of {self.companyName} \")\n",
        "\n",
        "  def changeCompany(cls, newCompany):\n",
        "    cls.companyName = newCompany\n",
        "\n",
        "  @classmethod\n",
        "  def switchCompany(cls, nextCompany):\n",
        "    cls.companyName = nextCompany\n",
        "\n",
        "e1 = Employee()\n",
        "e1.name = \"Buri\"\n",
        "e1.showDetail()\n",
        "e1.changeCompany(\"Tesla\") #this changed it only in this instance\n",
        "e1.showDetail()\n",
        "print(Employee.companyName) # this will still show the original class variable.\n",
        "\n",
        "\n",
        "e2 = Employee()\n",
        "e2.name = \"Kamran\"\n",
        "e2.showDetail()\n",
        "e2.switchCompany(\"Tesla\") #this changed the class variable itself as it takes class as an argument\n",
        "e2.showDetail()\n",
        "print(Employee.companyName) # this will  show the modified class variable.\n"
      ],
      "metadata": {
        "colab": {
          "base_uri": "https://localhost:8080/"
        },
        "id": "DBDQDrdVPeUJ",
        "outputId": "8f9b6e15-c366-4682-d54e-3ec5e99be057"
      },
      "execution_count": null,
      "outputs": [
        {
          "output_type": "stream",
          "name": "stdout",
          "text": [
            "Buri is an Employee of Google \n",
            "Buri is an Employee of Tesla \n",
            "Google\n",
            "Kamran is an Employee of Google \n",
            "Kamran is an Employee of Tesla \n",
            "Tesla\n"
          ]
        }
      ]
    },
    {
      "cell_type": "code",
      "source": [
        "# Alternative Constructors\n",
        "# we can use classmethod as an alternative constructors as well\n",
        "class Employee:\n",
        "  def __init__(self,name,salary):\n",
        "    self.name = name\n",
        "    self.salary = salary\n",
        "\n",
        "# to save a lot of repetetive work we can make a classmethod\n",
        "  @classmethod\n",
        "  def fromStr(cls,string):\n",
        "    return cls(string.split(\"-\")[0],int(string.split(\"-\")[1]))\n",
        "\n",
        "e = Employee(\"Buri\", 10000000)\n",
        "print(e.name,e.salary)\n",
        "\n",
        "\n",
        "# if data is in some other format\n",
        "z = \"Rashid-12000\"\n",
        "e1 = Employee(z.split(\"-\")[0],z.split(\"-\")[1])\n",
        "print(e1.name,e1.salary)\n",
        "\n",
        "\n",
        "# we can use this after making a classmethod constructor\n",
        "i = \"Irfan-009\"\n",
        "e2 = Employee.fromStr(i)\n",
        "print(e2.name,e2.salary)\n",
        "\n",
        "\n"
      ],
      "metadata": {
        "colab": {
          "base_uri": "https://localhost:8080/"
        },
        "id": "RxxVKYE7CUe3",
        "outputId": "c8bae3dd-bd72-4853-9349-f0898836f6e7"
      },
      "execution_count": null,
      "outputs": [
        {
          "output_type": "stream",
          "name": "stdout",
          "text": [
            "Buri 10000000\n",
            "Rashid 12000\n",
            "Irfan 9\n"
          ]
        }
      ]
    },
    {
      "cell_type": "code",
      "source": [
        "x = [1,2,3]\n",
        "print(dir(x))\n",
        "print(x.__add__)\n",
        "# print(help(x))\n",
        "\n"
      ],
      "metadata": {
        "colab": {
          "base_uri": "https://localhost:8080/"
        },
        "id": "Qs_Gt33k1tHz",
        "outputId": "32206950-2241-4672-adf6-ac330ce24e76"
      },
      "execution_count": null,
      "outputs": [
        {
          "output_type": "stream",
          "name": "stdout",
          "text": [
            "['__add__', '__class__', '__class_getitem__', '__contains__', '__delattr__', '__delitem__', '__dir__', '__doc__', '__eq__', '__format__', '__ge__', '__getattribute__', '__getitem__', '__gt__', '__hash__', '__iadd__', '__imul__', '__init__', '__init_subclass__', '__iter__', '__le__', '__len__', '__lt__', '__mul__', '__ne__', '__new__', '__reduce__', '__reduce_ex__', '__repr__', '__reversed__', '__rmul__', '__setattr__', '__setitem__', '__sizeof__', '__str__', '__subclasshook__', 'append', 'clear', 'copy', 'count', 'extend', 'index', 'insert', 'pop', 'remove', 'reverse', 'sort']\n",
            "<method-wrapper '__add__' of list object at 0x7c024280a380>\n"
          ]
        }
      ]
    },
    {
      "cell_type": "code",
      "source": [
        "# super keyword\n",
        "# used to call methods from parent class to the child class\n",
        "# mostly used when child class inherits from multiple parent classes\n",
        "\n",
        "class ParentClass:\n",
        "  def parent_method(self):\n",
        "    print(\"this is a parent method\")\n",
        "\n",
        "\n",
        "class ChildClass(ParentClass):\n",
        "  # def parent_method(self):\n",
        "  #   print(\"this is a 2nd PM\")\n",
        "  #   super().parent_method()\n",
        "\n",
        "  def child_method(self):\n",
        "    print(\"this is a child Method\")\n",
        "    super().parent_method()\n",
        "\n",
        "child_object = ChildClass()\n",
        "child_object.child_method()\n",
        "child_object.parent_method()\n",
        "\n",
        "# parent_object = ParentClass()\n",
        "# parent_object.parent_method()"
      ],
      "metadata": {
        "colab": {
          "base_uri": "https://localhost:8080/"
        },
        "id": "dsj8RYlBdJH4",
        "outputId": "5b520a7e-8c28-43e1-9bd4-5a9028112a63"
      },
      "execution_count": null,
      "outputs": [
        {
          "output_type": "stream",
          "name": "stdout",
          "text": [
            "this is a child Method\n",
            "this is a parent method\n",
            "this is a parent method\n"
          ]
        }
      ]
    },
    {
      "cell_type": "code",
      "source": [
        "class Employee:\n",
        "  def __init__(self,name,salary):\n",
        "    self.name = name\n",
        "    self.salary = salary\n",
        "\n",
        "class Programmer(Employee):\n",
        "  def __init__(self,name,salary,lang):\n",
        "    super().__init__(name,salary)\n",
        "    self.lang = lang\n",
        "\n",
        "  def __str__(self):\n",
        "    return f\"{self.name} is a {self.lang} developer, earning {self.salary} a month\"\n",
        "\n",
        "b = Programmer(\"Buri\",\"1234\",\"JS\")\n",
        "# print(a.name,a.salary)\n",
        "print(b.name,b.salary,b.lang)\n",
        "print(b)"
      ],
      "metadata": {
        "colab": {
          "base_uri": "https://localhost:8080/",
          "height": 0
        },
        "id": "I6dSIVKKjf--",
        "outputId": "8d01dd6a-855a-4eb1-87c2-e57959bc5e85"
      },
      "execution_count": 35,
      "outputs": [
        {
          "output_type": "stream",
          "name": "stdout",
          "text": [
            "Buri 1234 JS\n",
            "Buri is a JS developer, earning 1234 a month\n"
          ]
        }
      ]
    },
    {
      "cell_type": "code",
      "source": [
        "# Method overriding\n",
        "#  we can use and change a method in super class in sub class\n",
        "class Shape:\n",
        "  def __init__(self,x,y):\n",
        "    self.x = x\n",
        "    self.y = y\n",
        "\n",
        "  def area(self):\n",
        "    return self.x * self.y\n",
        "\n",
        "class Circle(Shape):\n",
        "  def __init__(self,radius):\n",
        "    self.radius = radius\n",
        "    super().__init__(radius,radius)\n",
        "\n",
        "  def area(self):\n",
        "    return 3.14 * super().area()\n",
        "\n",
        "a = Shape(10,5)\n",
        "print(a.area())\n",
        "\n",
        "b = Circle(6)\n",
        "print(round(b.area()))"
      ],
      "metadata": {
        "colab": {
          "base_uri": "https://localhost:8080/",
          "height": 0
        },
        "id": "hIyOYQuGK6NV",
        "outputId": "05acc5ba-ce7e-434e-ccbb-70d04b047fb3"
      },
      "execution_count": 53,
      "outputs": [
        {
          "output_type": "stream",
          "name": "stdout",
          "text": [
            "50\n",
            "113\n"
          ]
        }
      ]
    },
    {
      "cell_type": "code",
      "source": [
        "# /// Multi level inhertence\n",
        "\n",
        "class Animal():\n",
        "  def __init__(self,name,species):\n",
        "    self.name = name\n",
        "    self.species = species\n",
        "\n",
        "  def show_details(self):\n",
        "    print(f\"Name: {self.name}\")\n",
        "    print(f\"Species: {self.species}\")\n",
        "\n",
        "class Dog(Animal):\n",
        "  def __init__(self,name,breed):\n",
        "    Animal.__init__(self, name, species=\"Dog\")\n",
        "    self.breed = breed\n",
        "\n",
        "  def show_details(self):\n",
        "    Animal.show_details(self)\n",
        "    print(f\"Breed: {self.breed}\")\n",
        "\n",
        "class German(Dog):\n",
        "  def __init__(self,name,color):\n",
        "    Dog.__init__(self, name, breed=\"German Shepherd\")\n",
        "    self.color = color\n",
        "\n",
        "  def show_details(self):\n",
        "    Dog.show_details(self)\n",
        "    print(f\"Color: {self.color}\")\n",
        "\n",
        "o = Dog(\"Mamba\", \"German Shepherd\")\n",
        "o.show_details()\n",
        "\n",
        "o = German(\"Naag\", \"Kaala\")\n",
        "o.show_details()"
      ],
      "metadata": {
        "colab": {
          "base_uri": "https://localhost:8080/",
          "height": 0
        },
        "id": "63LNNvnmWT-l",
        "outputId": "d5d45839-1273-4e5d-fba7-de1a762cc47e"
      },
      "execution_count": 58,
      "outputs": [
        {
          "output_type": "stream",
          "name": "stdout",
          "text": [
            "Name: Mamba\n",
            "Species: Dog\n",
            "Breed: German Shepherd\n",
            "Name: Naag\n",
            "Species: Dog\n",
            "Breed: German Shepherd\n",
            "Color: Kaala\n"
          ]
        }
      ]
    },
    {
      "cell_type": "code",
      "source": [],
      "metadata": {
        "id": "Z7R14LiY9PS1"
      },
      "execution_count": null,
      "outputs": []
    }
  ]
}