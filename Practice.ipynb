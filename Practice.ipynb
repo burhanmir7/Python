{
  "nbformat": 4,
  "nbformat_minor": 0,
  "metadata": {
    "colab": {
      "provenance": []
    },
    "kernelspec": {
      "name": "python3",
      "display_name": "Python 3"
    },
    "language_info": {
      "name": "python"
    }
  },
  "cells": [
    {
      "cell_type": "code",
      "execution_count": 1,
      "metadata": {
        "colab": {
          "base_uri": "https://localhost:8080/"
        },
        "id": "rhbO0cA98nJg",
        "outputId": "fedfa5e9-c64c-45eb-c9e4-26ba8898a1a6"
      },
      "outputs": [
        {
          "output_type": "execute_result",
          "data": {
            "text/plain": [
              "array([41, 57, 83, 42, 65, 27, 76,  9, 39, 81, 75,  6,  2, 12, 34, 64, 25,\n",
              "       94, 52, 46, 51,  4, 11, 66, 60,  8, 44, 40, 77, 62, 22, 47, 10, 19,\n",
              "       84, 72, 29, 95, 36, 87, 13, 53, 18, 14, 86, 32, 93, 45, 96, 88, 37,\n",
              "        7, 79, 55, 15, 23, 89, 91, 31, 49, 35, 26,  0, 68, 92, 97, 80, 50,\n",
              "       69, 54, 48, 43, 61, 70, 20, 30, 38,  1, 56,  3, 17, 73, 16, 99, 59,\n",
              "       24, 33, 85, 67, 21,  5, 82, 71, 58, 98, 28, 74, 63, 78, 90])"
            ]
          },
          "metadata": {},
          "execution_count": 1
        }
      ],
      "source": [
        "import numpy as np\n",
        "import random\n",
        "\n",
        "a = np.arange(100)\n",
        "random.shuffle(a)\n",
        "a"
      ]
    },
    {
      "cell_type": "code",
      "source": [
        "import numpy as np\n",
        "\n",
        "# Create a row vector\n",
        "row_vector = np.array([1, 2, 3])\n",
        "\n",
        "# Create a column vector\n",
        "column_vector = np.array([[4], [5], [6]])\n",
        "\n",
        "# Method 1: Using numpy.dot()\n",
        "result_dot = np.dot(row_vector, column_vector)\n",
        "\n",
        "# Print the results\n",
        "print(\"Result using numpy.dot():\")\n",
        "print(result_dot)\n",
        "np.ndim(row_vector)"
      ],
      "metadata": {
        "colab": {
          "base_uri": "https://localhost:8080/"
        },
        "id": "nTTwuVjqdyPr",
        "outputId": "ac7a2db6-1d97-4329-e3f7-fac3b1161ef8"
      },
      "execution_count": 17,
      "outputs": [
        {
          "output_type": "stream",
          "name": "stdout",
          "text": [
            "Result using numpy.dot():\n",
            "[32]\n"
          ]
        },
        {
          "output_type": "execute_result",
          "data": {
            "text/plain": [
              "1"
            ]
          },
          "metadata": {},
          "execution_count": 17
        }
      ]
    },
    {
      "cell_type": "code",
      "source": [
        "q = 6\n",
        "isFound = False\n",
        "for i in a:\n",
        "  if i == q:\n",
        "    print(\"found\")\n",
        "    isFound=True\n",
        "    break\n",
        "if isFound == False:\n",
        "  print(\"Not found\")"
      ],
      "metadata": {
        "colab": {
          "base_uri": "https://localhost:8080/"
        },
        "id": "JR-o-YKR2FY2",
        "outputId": "2f305043-11e6-4cd6-c68c-b1d368e86d2e"
      },
      "execution_count": 5,
      "outputs": [
        {
          "output_type": "stream",
          "name": "stdout",
          "text": [
            "found\n"
          ]
        }
      ]
    },
    {
      "cell_type": "code",
      "source": [
        "import pandas as pd\n",
        "data = [[6, 10], [6, 10], [9, 14]]\n",
        "df = pd.DataFrame(data, columns=['Name', 'Age'])\n",
        "print(df)\n",
        "df.mean()"
      ],
      "metadata": {
        "colab": {
          "base_uri": "https://localhost:8080/"
        },
        "id": "yg0NjwOlY00f",
        "outputId": "75b54db4-4dbd-4320-af37-6df697b66fa6"
      },
      "execution_count": 2,
      "outputs": [
        {
          "output_type": "stream",
          "name": "stdout",
          "text": [
            "   Name  Age\n",
            "0     6   10\n",
            "1     6   10\n",
            "2     9   14\n"
          ]
        },
        {
          "output_type": "execute_result",
          "data": {
            "text/plain": [
              "Name     7.000000\n",
              "Age     11.333333\n",
              "dtype: float64"
            ]
          },
          "metadata": {},
          "execution_count": 2
        }
      ]
    },
    {
      "cell_type": "code",
      "source": [
        "import numpy as np\n",
        "a = np.array([[[2,3],[8,5],[9,8]]])\n",
        "print(np.mean(a, axis=0))"
      ],
      "metadata": {
        "colab": {
          "base_uri": "https://localhost:8080/"
        },
        "id": "S6n4dNtWl5dy",
        "outputId": "f6724514-0cab-4e43-9c6e-fd1526d9f651"
      },
      "execution_count": 29,
      "outputs": [
        {
          "output_type": "stream",
          "name": "stdout",
          "text": [
            "[[2. 3.]\n",
            " [8. 5.]\n",
            " [9. 8.]]\n"
          ]
        }
      ]
    }
  ]
}