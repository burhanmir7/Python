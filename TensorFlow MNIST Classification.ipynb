{
 "cells": [
  {
   "cell_type": "code",
   "execution_count": 3,
   "id": "1dfe3883",
   "metadata": {},
   "outputs": [],
   "source": [
    "import numpy as np\n",
    "import matplotlib.pyplot as plt\n",
    "%matplotlib inline\n",
    "import tensorflow as tf\n",
    "from tensorflow import keras"
   ]
  },
  {
   "cell_type": "code",
   "execution_count": 4,
   "id": "0e560a53",
   "metadata": {},
   "outputs": [
    {
     "name": "stdout",
     "output_type": "stream",
     "text": [
      "Downloading data from https://storage.googleapis.com/tensorflow/tf-keras-datasets/mnist.npz\n",
      "11490434/11490434 [==============================] - 3s 0us/step\n"
     ]
    }
   ],
   "source": [
    "(X_train, y_train),(X_test,y_test)=keras.datasets.mnist.load_data()"
   ]
  },
  {
   "cell_type": "code",
   "execution_count": 8,
   "id": "c31131b4",
   "metadata": {},
   "outputs": [
    {
     "data": {
      "text/plain": [
       "60000"
      ]
     },
     "execution_count": 8,
     "metadata": {},
     "output_type": "execute_result"
    }
   ],
   "source": [
    "len(y_train)"
   ]
  },
  {
   "cell_type": "code",
   "execution_count": 7,
   "id": "67c2b9e9",
   "metadata": {},
   "outputs": [
    {
     "data": {
      "text/plain": [
       "10000"
      ]
     },
     "execution_count": 7,
     "metadata": {},
     "output_type": "execute_result"
    }
   ],
   "source": [
    "len(y_test)"
   ]
  },
  {
   "cell_type": "code",
   "execution_count": 11,
   "id": "19bafe01",
   "metadata": {},
   "outputs": [
    {
     "data": {
      "text/plain": [
       "(28, 28)"
      ]
     },
     "execution_count": 11,
     "metadata": {},
     "output_type": "execute_result"
    }
   ],
   "source": [
    "X_train[89].shape"
   ]
  },
  {
   "cell_type": "code",
   "execution_count": 13,
   "id": "3b4623f4",
   "metadata": {},
   "outputs": [
    {
     "data": {
      "text/plain": [
       "<matplotlib.image.AxesImage at 0x283284ad0>"
      ]
     },
     "execution_count": 13,
     "metadata": {},
     "output_type": "execute_result"
    },
    {
     "data": {
      "image/png": "[encoded data removed]",
      "text/plain": [
       "<Figure size 480x480 with 1 Axes>"
      ]
     },
     "metadata": {},
     "output_type": "display_data"
    }
   ],
   "source": [
    "plt.matshow(X_train[89])"
   ]
  },
  {
   "cell_type": "code",
   "execution_count": 14,
   "id": "61001a5e",
   "metadata": {},
   "outputs": [
    {
     "data": {
      "text/plain": [
       "4"
      ]
     },
     "execution_count": 14,
     "metadata": {},
     "output_type": "execute_result"
    }
   ],
   "source": [
    "y_train[89]"
   ]
  },
  {
   "cell_type": "code",
   "execution_count": 26,
   "id": "f629c562",
   "metadata": {},
   "outputs": [
    {
     "data": {
      "text/plain": [
       "(60000, 28, 28)"
      ]
     },
     "execution_count": 26,
     "metadata": {},
     "output_type": "execute_result"
    }
   ],
   "source": [
    "X_train.shape"
   ]
  },
  {
   "cell_type": "code",
   "execution_count": 27,
   "id": "8ab13b54",
   "metadata": {},
   "outputs": [],
   "source": [
    "X_train = X_train / 255\n",
    "X_test = X_test / 255"
   ]
  },
  {
   "cell_type": "code",
   "execution_count": 28,
   "id": "c485cc66",
   "metadata": {},
   "outputs": [
    {
     "data": {
      "text/plain": [
       "(10000, 784)"
      ]
     },
     "execution_count": 28,
     "metadata": {},
     "output_type": "execute_result"
    }
   ],
   "source": [
    "X_train_flattened = X_train.reshape(len(X_train),28*28)\n",
    "X_test_flattened = X_test.reshape(len(X_test),28*28)\n",
    "X_train_flattened.shape\n",
    "X_test_flattened.shape"
   ]
  },
  {
   "cell_type": "code",
   "execution_count": 30,
   "id": "31ec27ee",
   "metadata": {},
   "outputs": [
    {
     "name": "stdout",
     "output_type": "stream",
     "text": [
      "Epoch 1/10\n",
      "1875/1875 [==============================] - 1s 497us/step - loss: 0.4724 - accuracy: 0.8761\n",
      "Epoch 2/10\n",
      "1875/1875 [==============================] - 1s 482us/step - loss: 0.3037 - accuracy: 0.9145\n",
      "Epoch 3/10\n",
      "1875/1875 [==============================] - 1s 480us/step - loss: 0.2838 - accuracy: 0.9210\n",
      "Epoch 4/10\n",
      "1875/1875 [==============================] - 1s 494us/step - loss: 0.2732 - accuracy: 0.9235\n",
      "Epoch 5/10\n",
      "1875/1875 [==============================] - 1s 480us/step - loss: 0.2666 - accuracy: 0.9255\n",
      "Epoch 6/10\n",
      "1875/1875 [==============================] - 1s 481us/step - loss: 0.2619 - accuracy: 0.9269\n",
      "Epoch 7/10\n",
      "1875/1875 [==============================] - 1s 481us/step - loss: 0.2584 - accuracy: 0.9283\n",
      "Epoch 8/10\n",
      "1875/1875 [==============================] - 1s 482us/step - loss: 0.2556 - accuracy: 0.9286\n",
      "Epoch 9/10\n",
      "1875/1875 [==============================] - 1s 491us/step - loss: 0.2531 - accuracy: 0.9301\n",
      "Epoch 10/10\n",
      "1875/1875 [==============================] - 1s 479us/step - loss: 0.2510 - accuracy: 0.9313\n"
     ]
    },
    {
     "data": {
      "text/plain": [
       "<keras.src.callbacks.History at 0x28715ac10>"
      ]
     },
     "execution_count": 30,
     "metadata": {},
     "output_type": "execute_result"
    }
   ],
   "source": [
    "model = keras.Sequential([\n",
    "    keras.layers.Dense(10,input_shape=(784,),activation = 'sigmoid')\n",
    "])\n",
    "\n",
    "model.compile(\n",
    "    optimizer = 'adam',\n",
    "    loss = 'sparse_categorical_crossentropy',\n",
    "    metrics=['accuracy'],\n",
    ")\n",
    "\n",
    "model.fit(X_train_flattened, y_train, epochs=10)"
   ]
  },
  {
   "cell_type": "code",
   "execution_count": 31,
   "id": "f6e7d28c",
   "metadata": {},
   "outputs": [
    {
     "name": "stdout",
     "output_type": "stream",
     "text": [
      "313/313 [==============================] - 0s 457us/step - loss: 0.2646 - accuracy: 0.9273\n"
     ]
    },
    {
     "data": {
      "text/plain": [
       "[0.26461076736450195, 0.927299976348877]"
      ]
     },
     "execution_count": 31,
     "metadata": {},
     "output_type": "execute_result"
    }
   ],
   "source": [
    "model.evaluate(X_test_flattened, y_test)"
   ]
  },
  {
   "cell_type": "code",
   "execution_count": 48,
   "id": "09746426",
   "metadata": {},
   "outputs": [
    {
     "data": {
      "text/plain": [
       "<matplotlib.image.AxesImage at 0x158190c50>"
      ]
     },
     "execution_count": 48,
     "metadata": {},
     "output_type": "execute_result"
    },
    {
     "data": {
      "image/png": "[encoded data removed]",
      "text/plain": [
       "<Figure size 480x480 with 1 Axes>"
      ]
     },
     "metadata": {},
     "output_type": "display_data"
    }
   ],
   "source": [
    "plt.matshow(X_test[45])"
   ]
  },
  {
   "cell_type": "code",
   "execution_count": 49,
   "id": "77835191",
   "metadata": {},
   "outputs": [
    {
     "name": "stdout",
     "output_type": "stream",
     "text": [
      "313/313 [==============================] - 0s 375us/step\n"
     ]
    },
    {
     "data": {
      "text/plain": [
       "array([1.1242621e-01, 8.1433245e-05, 1.5727216e-02, 6.8011862e-01,\n",
       "       3.5486728e-02, 9.8603886e-01, 3.8087673e-03, 1.0581129e-04,\n",
       "       7.3921818e-01, 2.3004046e-01], dtype=float32)"
      ]
     },
     "execution_count": 49,
     "metadata": {},
     "output_type": "execute_result"
    }
   ],
   "source": [
    "y_predicted = model.predict(X_test_flattened)\n",
    "y_predicted[45]"
   ]
  },
  {
   "cell_type": "code",
   "execution_count": 50,
   "id": "e324a14e",
   "metadata": {},
   "outputs": [
    {
     "data": {
      "text/plain": [
       "5"
      ]
     },
     "execution_count": 50,
     "metadata": {},
     "output_type": "execute_result"
    }
   ],
   "source": [
    "np.argmax(y_predicted[45])"
   ]
  },
  {
   "cell_type": "code",
   "execution_count": 54,
   "id": "a26013b0",
   "metadata": {},
   "outputs": [
    {
     "data": {
      "text/plain": [
       "5"
      ]
     },
     "execution_count": 54,
     "metadata": {},
     "output_type": "execute_result"
    }
   ],
   "source": [
    "y_predicted_labels = [np.argmax(i) for i in y_predicted]\n",
    "y_predicted_labels[45]"
   ]
  },
  {
   "cell_type": "code",
   "execution_count": 56,
   "id": "e8213160",
   "metadata": {},
   "outputs": [
    {
     "data": {
      "text/plain": [
       "<tf.Tensor: shape=(10, 10), dtype=int32, numpy=\n",
       "array([[ 957,    0,    1,    3,    0,    6,    6,    2,    4,    1],\n",
       "       [   0, 1106,    4,    3,    0,    1,    3,    2,   16,    0],\n",
       "       [   3,    5,  933,   17,    7,    4,   10,    9,   40,    4],\n",
       "       [   1,    0,   17,  929,    1,   19,    2,    9,   23,    9],\n",
       "       [   1,    1,    6,    2,  909,    0,    8,    4,    9,   42],\n",
       "       [   7,    2,    5,   42,   12,  761,   10,    8,   39,    6],\n",
       "       [  10,    3,   10,    1,    9,   11,  908,    2,    4,    0],\n",
       "       [   1,    6,   25,    4,    7,    0,    0,  946,    3,   36],\n",
       "       [   4,    6,    6,   18,    9,   17,    6,    9,  889,   10],\n",
       "       [   9,    5,    1,    8,   25,    3,    0,   12,   11,  935]],\n",
       "      dtype=int32)>"
      ]
     },
     "execution_count": 56,
     "metadata": {},
     "output_type": "execute_result"
    }
   ],
   "source": [
    "cm = tf.math.confusion_matrix(labels=y_test, predictions = y_predicted_labels)\n",
    "cm"
   ]
  },
  {
   "cell_type": "code",
   "execution_count": 57,
   "id": "b20236e1",
   "metadata": {},
   "outputs": [
    {
     "data": {
      "text/plain": [
       "Text(95.72222222222221, 0.5, 'Truth')"
      ]
     },
     "execution_count": 57,
     "metadata": {},
     "output_type": "execute_result"
    },
    {
     "data": {
      "image/png": "[encoded data removed]",
      "text/plain": [
       "<Figure size 1000x700 with 2 Axes>"
      ]
     },
     "metadata": {},
     "output_type": "display_data"
    }
   ],
   "source": [
    "import seaborn as sn\n",
    "plt.figure(figsize = (10,7))\n",
    "sn.heatmap(cm, annot=True, fmt='d')\n",
    "plt.xlabel('Predicted')\n",
    "plt.ylabel('Truth')"
   ]
  },
  {
   "cell_type": "markdown",
   "id": "dd1e6ce2",
   "metadata": {},
   "source": [
    "# with Hidden Layer"
   ]
  },
  {
   "cell_type": "code",
   "execution_count": 58,
   "id": "e786f45e",
   "metadata": {},
   "outputs": [
    {
     "name": "stdout",
     "output_type": "stream",
     "text": [
      "Epoch 1/10\n",
      "1875/1875 [==============================] - 2s 757us/step - loss: 0.2805 - accuracy: 0.9204\n",
      "Epoch 2/10\n",
      "1875/1875 [==============================] - 1s 792us/step - loss: 0.1273 - accuracy: 0.9630\n",
      "Epoch 3/10\n",
      "1875/1875 [==============================] - 1s 756us/step - loss: 0.0884 - accuracy: 0.9735\n",
      "Epoch 4/10\n",
      "1875/1875 [==============================] - 1s 736us/step - loss: 0.0650 - accuracy: 0.9801\n",
      "Epoch 5/10\n",
      "1875/1875 [==============================] - 1s 737us/step - loss: 0.0527 - accuracy: 0.9840\n",
      "Epoch 6/10\n",
      "1875/1875 [==============================] - 1s 762us/step - loss: 0.0414 - accuracy: 0.9875\n",
      "Epoch 7/10\n",
      "1875/1875 [==============================] - 2s 869us/step - loss: 0.0343 - accuracy: 0.9891\n",
      "Epoch 8/10\n",
      "1875/1875 [==============================] - 1s 738us/step - loss: 0.0271 - accuracy: 0.9919\n",
      "Epoch 9/10\n",
      "1875/1875 [==============================] - 1s 735us/step - loss: 0.0232 - accuracy: 0.9929\n",
      "Epoch 10/10\n",
      "1875/1875 [==============================] - 2s 804us/step - loss: 0.0200 - accuracy: 0.9937\n"
     ]
    },
    {
     "data": {
      "text/plain": [
       "<keras.src.callbacks.History at 0x2cb8b6810>"
      ]
     },
     "execution_count": 58,
     "metadata": {},
     "output_type": "execute_result"
    }
   ],
   "source": [
    "model = keras.Sequential([\n",
    "    keras.layers.Dense(100,input_shape=(784,),activation = 'relu'),\n",
    "    keras.layers.Dense(10,activation = 'sigmoid')\n",
    "])\n",
    "\n",
    "model.compile(\n",
    "    optimizer = 'adam',\n",
    "    loss = 'sparse_categorical_crossentropy',\n",
    "    metrics=['accuracy'],\n",
    ")\n",
    "\n",
    "model.fit(X_train_flattened, y_train, epochs=10)"
   ]
  },
  {
   "cell_type": "code",
   "execution_count": 59,
   "id": "c18e536c",
   "metadata": {},
   "outputs": [
    {
     "name": "stdout",
     "output_type": "stream",
     "text": [
      "313/313 [==============================] - 0s 529us/step - loss: 0.0827 - accuracy: 0.9769\n"
     ]
    },
    {
     "data": {
      "text/plain": [
       "[0.08266730606555939, 0.9768999814987183]"
      ]
     },
     "execution_count": 59,
     "metadata": {},
     "output_type": "execute_result"
    }
   ],
   "source": [
    "model.evaluate(X_test_flattened, y_test)"
   ]
  },
  {
   "cell_type": "code",
   "execution_count": 60,
   "id": "79c9aa13",
   "metadata": {},
   "outputs": [
    {
     "name": "stdout",
     "output_type": "stream",
     "text": [
      "313/313 [==============================] - 0s 465us/step\n"
     ]
    },
    {
     "data": {
      "text/plain": [
       "Text(95.72222222222221, 0.5, 'Truth')"
      ]
     },
     "execution_count": 60,
     "metadata": {},
     "output_type": "execute_result"
    },
    {
     "data": {
      "image/png": "[encoded data removed]",
      "text/plain": [
       "<Figure size 1000x700 with 2 Axes>"
      ]
     },
     "metadata": {},
     "output_type": "display_data"
    }
   ],
   "source": [
    "y_predicted = model.predict(X_test_flattened)\n",
    "\n",
    "# convert into lables\n",
    "y_predicted_labels = [np.argmax(i) for i in y_predicted]\n",
    "\n",
    "\n",
    "# confusion matrix\n",
    "cm = tf.math.confusion_matrix(labels=y_test, predictions = y_predicted_labels)\n",
    "\n",
    "\n",
    "# plot cm\n",
    "plt.figure(figsize = (10,7))\n",
    "sn.heatmap(cm, annot=True, fmt='d')\n",
    "plt.xlabel('Predicted')\n",
    "plt.ylabel('Truth')"
   ]
  },
  {
   "cell_type": "code",
   "execution_count": 63,
   "id": "166465c2",
   "metadata": {},
   "outputs": [
    {
     "name": "stdout",
     "output_type": "stream",
     "text": [
      "Epoch 1/10\n",
      "1875/1875 [==============================] - 2s 784us/step - loss: 0.2680 - accuracy: 0.9243\n",
      "Epoch 2/10\n",
      "1875/1875 [==============================] - 1s 799us/step - loss: 0.1214 - accuracy: 0.9649\n",
      "Epoch 3/10\n",
      "1875/1875 [==============================] - 1s 742us/step - loss: 0.0873 - accuracy: 0.9743\n",
      "Epoch 4/10\n",
      "1875/1875 [==============================] - 1s 738us/step - loss: 0.0668 - accuracy: 0.9805\n",
      "Epoch 5/10\n",
      "1875/1875 [==============================] - 1s 734us/step - loss: 0.0527 - accuracy: 0.9841\n",
      "Epoch 6/10\n",
      "1875/1875 [==============================] - 1s 746us/step - loss: 0.0416 - accuracy: 0.9871\n",
      "Epoch 7/10\n",
      "1875/1875 [==============================] - 2s 823us/step - loss: 0.0349 - accuracy: 0.9895\n",
      "Epoch 8/10\n",
      "1875/1875 [==============================] - 1s 739us/step - loss: 0.0284 - accuracy: 0.9915\n",
      "Epoch 9/10\n",
      "1875/1875 [==============================] - 1s 763us/step - loss: 0.0233 - accuracy: 0.9928\n",
      "Epoch 10/10\n",
      "1875/1875 [==============================] - 1s 783us/step - loss: 0.0202 - accuracy: 0.9938\n"
     ]
    },
    {
     "data": {
      "text/plain": [
       "<keras.src.callbacks.History at 0x2cbc80d10>"
      ]
     },
     "execution_count": 63,
     "metadata": {},
     "output_type": "execute_result"
    }
   ],
   "source": [
    "model = keras.Sequential([\n",
    "    keras.layers.Flatten(input_shape=(28,28)),\n",
    "    keras.layers.Dense(100,activation = 'relu'),\n",
    "    keras.layers.Dense(10,activation = 'sigmoid')\n",
    "])\n",
    "\n",
    "model.compile(\n",
    "    optimizer = 'adam',\n",
    "    loss = 'sparse_categorical_crossentropy',\n",
    "    metrics=['accuracy'],\n",
    ")\n",
    "\n",
    "model.fit(X_train, y_train, epochs=10)"
   ]
  },
  {
   "cell_type": "code",
   "execution_count": 65,
   "id": "0cf26b92",
   "metadata": {},
   "outputs": [
    {
     "name": "stdout",
     "output_type": "stream",
     "text": [
      "313/313 [==============================] - 0s 474us/step\n"
     ]
    },
    {
     "data": {
      "text/plain": [
       "5"
      ]
     },
     "execution_count": 65,
     "metadata": {},
     "output_type": "execute_result"
    }
   ],
   "source": [
    "y_predicted = model.predict(X_test)\n",
    "y_predicted_labels = [np.argmax(i) for i in y_predicted]\n",
    "y_predicted_labels[45]"
   ]
  },
  {
   "cell_type": "code",
   "execution_count": null,
   "id": "1467b066",
   "metadata": {},
   "outputs": [],
   "source": []
  }
 ],
 "metadata": {
  "kernelspec": {
   "display_name": "Python 3 (ipykernel)",
   "language": "python",
   "name": "python3"
  },
  "language_info": {
   "codemirror_mode": {
    "name": "ipython",
    "version": 3
   },
   "file_extension": ".py",
   "mimetype": "text/x-python",
   "name": "python",
   "nbconvert_exporter": "python",
   "pygments_lexer": "ipython3",
   "version": "3.11.5"
  }
 },
 "nbformat": 4,
 "nbformat_minor": 5
}
